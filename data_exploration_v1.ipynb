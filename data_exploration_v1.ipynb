{
 "cells": [
  {
   "cell_type": "markdown",
   "metadata": {},
   "source": [
    "### A notebook for data exploration and function testing for predict sales web app "
   ]
  },
  {
   "cell_type": "markdown",
   "metadata": {},
   "source": [
    "### Contents:\n",
    "1. Data exploration and outlier replacement\n",
    "2. Feature engineering and train,test and predict split\n",
    "3. Creating a base estimator to compare with\n",
    "4. Creating and testing linear model\n",
    "5. Creating and testing XGBoost model \n",
    "6. Tuning parameters and getting feature importance for the best model \n",
    "7. Testing on unseen shops\n",
    "8. Conclusions"
   ]
  },
  {
   "cell_type": "markdown",
   "metadata": {},
   "source": [
    "## 1. Data exploration"
   ]
  },
  {
   "cell_type": "markdown",
   "metadata": {},
   "source": [
    "### Long cells with functions from app/process_data.py - you can ignore it and scroll past "
   ]
  },
  {
   "cell_type": "markdown",
   "metadata": {},
   "source": [
    "#### Preprocess data functions"
   ]
  },
  {
   "cell_type": "code",
   "execution_count": 4,
   "metadata": {},
   "outputs": [],
   "source": [
    "# import libraries\n",
    "import sys\n",
    "import pandas as pd\n",
    "import datetime\n",
    "import math\n",
    "import numpy as np\n",
    "\n",
    "\n",
    "def preprocess_data(sales_filepath, items_filepath, use_shop_ids=[38,42,35,23,32,24,4,5,12,29]):\n",
    "    '''\n",
    "        preprocess_data() - function that transforms initial training data CSV files into a dataframe \n",
    "                            in a format that can be then processed and used in training pipeline\n",
    "        Input:\n",
    "            sales_filepath - (str) path to training sales data \n",
    "            items_filepath - (str) path to training data on items (names, categories)\n",
    "            use_shop_ids - (list) a subset of int shop ids from 'sales_filepath' CSV file to use during training to reduce training time\n",
    "        Output:\n",
    "            data - (pd.DataFrame) a Pandas dataframe with sales data\n",
    "\n",
    "    '''\n",
    "    sales_train = pd.read_csv(sales_filepath)\n",
    "    items = pd.read_csv(items_filepath)\n",
    "    data = sales_train[sales_train['shop_id'].isin(use_shop_ids) ].drop(columns=['date_block_num']).reset_index(drop=True)\n",
    "    data = pd.merge(data, items, on=['item_id'], how='left')    \n",
    "\n",
    "    return data\n",
    "\n",
    "\n",
    "def load_data_excel(data_filepath):\n",
    "    '''\n",
    "        load_data() - function that creates a Pandas dataframe from given excel file\n",
    "        Input:\n",
    "            data_filepath - (str) path to a excel file with sales data in needed format to train on or predict\n",
    "            Needed columns are: date, shop_id, item_id, item_price, item_cnt_day, item_name, item_category_id\n",
    "        Output:\n",
    "            df - (pd.DataFrame) a Pandas dataframe with sales data\n",
    "    '''\n",
    "    return pd.read_excel(data_filepath)"
   ]
  },
  {
   "cell_type": "markdown",
   "metadata": {},
   "source": [
    "#### Process data to generate new features functions"
   ]
  },
  {
   "cell_type": "code",
   "execution_count": 5,
   "metadata": {},
   "outputs": [],
   "source": [
    "def check_data_correctnes(data):\n",
    "    '''\n",
    "        check_data_correctnes() - function that checks correctness of a dataframe format and data, and assigns a shop_id if none is given\n",
    "                                  in case of a single shop in the data\n",
    "        Input:\n",
    "            data - (pd.DataFrame) a Pandas dataframe with sales data\n",
    "            Needed columns are: date, shop_id, item_id, item_price, item_cnt_day, item_name, item_category_id\n",
    "        Output:\n",
    "            data - (pd.DataFrame) a Pandas dataframe with sales data with necessary changes if needed (add shop_id if empty),\n",
    "            OR\n",
    "            raises an exception to let the web app know that format is incorrect \n",
    "    '''\n",
    "    data['shop_id'] = data['shop_id'].fillna('shop1')\n",
    "    return data\n",
    "\n",
    "def clean_and_aggreagate(data):\n",
    "    '''\n",
    "        clean_and_aggreagate() - function that cleanes, aggregates, removes outliers and sorts a Pandas dataframe for training or predicting sales\n",
    "        Input:\n",
    "            data - (pd.DataFrame) a Pandas dataframe with sales data\n",
    "        Output:\n",
    "            data_monthly - (pd.DataFrame) a cleaned and aggregated sorted dataframe\n",
    "    '''\n",
    "\n",
    "    # delete data with negative item counts or prices\n",
    "    data = data[data['item_cnt_day']>0]\n",
    "    data = data[data['item_price']>0]\n",
    "    # clean from any null values\n",
    "    data = data.dropna()\n",
    "    \n",
    "    # convert date from string to datetime format\n",
    "    data['date'] = pd.to_datetime(data['date'], format='%d.%m.%Y')\n",
    "\n",
    "    # Add month and year and aggregate data\n",
    "    data['month'] = data['date'].dt.month\n",
    "    data['year'] = data['date'].dt.year\n",
    "\n",
    "    # making sure we are getting only needed columns\n",
    "    keep_columns_agg = ['shop_id', 'item_id', 'item_price', 'item_cnt_day', 'month', 'year', 'item_category_id']\n",
    "    \n",
    "    # aggregate data monthly and by shops and items \n",
    "    data_monthly = data[keep_columns_agg].groupby(['year','month', 'shop_id', 'item_category_id', 'item_id'], as_index=False).agg(\n",
    "        {'item_price':'mean', \n",
    "        'item_cnt_day':['sum', 'mean'] })\n",
    "\n",
    "    # make multilevel index flat\n",
    "    data_monthly.columns = data_monthly.columns.map(''.join)\n",
    "\n",
    "    # rename columns\n",
    "    data_monthly = data_monthly.rename(columns={\n",
    "        'item_pricemean': 'item_price_avg', \n",
    "        'item_cnt_daysum':'item_cnt_month',\n",
    "        'item_cnt_daymean':'item_cnt_day_mean'})\n",
    "    \n",
    "    # sort the dataframe for future analysis\n",
    "    data_monthly = data_monthly.sort_values(by=['year', 'month', 'shop_id', 'item_id']).reset_index(drop=True)\n",
    "\n",
    "    # --- Replace outliers with averages for each item-shop combination each month using z-statistics\n",
    "\n",
    "    # Group data by shop and item and then calculate std, mean and z-statistics for each item in each shop. \n",
    "    agg_stats = data_monthly.groupby(['shop_id', 'item_id']).agg({'item_cnt_month': ['std', 'mean']}).reset_index()\n",
    "\n",
    "    # Pandas returns std of Nan for all the same values, not zeroes, sos replace with zeroes\n",
    "    agg_stats = agg_stats.fillna(0)\n",
    "\n",
    "    # rename columns\n",
    "    agg_stats.columns = agg_stats.columns.map(''.join)\n",
    "    agg_stats = agg_stats.rename(columns={'item_cnt_monthstd': 'item_cnt_month_std', 'item_cnt_monthmean':'item_cnt_month_mean'})\n",
    "\n",
    "    # add to the data_monthly calculated meand and std\n",
    "    data_monthly = data_monthly.merge(agg_stats, on=['shop_id', 'item_id'], how='left')\n",
    "\n",
    "    # first assign to 'z_statistics' difference between number of items this month and the average for this item at this shop\n",
    "    data_monthly['z_statistics'] = data_monthly['item_cnt_month'] - data_monthly['item_cnt_month_mean']\n",
    "    # then selece subset of 'data_monthly' where std is not zero, and there divide the difference we got above by the std. \n",
    "    # if std is zero then no need to do anything as all values are the same, and z_statistics will be 0 \n",
    "    data_monthly.loc[data_monthly['item_cnt_month_std'] != 0, 'z_statistics'] = data_monthly.loc[data_monthly['item_cnt_month_std'] != 0, 'z_statistics'] / data_monthly.loc[data_monthly['item_cnt_month_std'] != 0, 'item_cnt_month_std']  \n",
    "    # assing z_statistics absolute values of it\n",
    "    data_monthly.loc[:,'z_statistics'] = data_monthly['z_statistics'].abs()\n",
    "\n",
    "    z_threshold = 3\n",
    "    # if in particular month we sold number of items outside of 3 stds from mean, \n",
    "    # let's call that row an outlier and replace that number of items sold with a mean.\n",
    "    data_monthly.loc[data_monthly['z_statistics'] > z_threshold, 'item_cnt_month'] = data_monthly.loc[data_monthly['z_statistics'] > z_threshold, 'item_cnt_month_mean']\n",
    "\n",
    "    return data_monthly\n",
    "\n",
    "def add_empty_rows(data_monthly):\n",
    "    '''\n",
    "        add_empty_rows() - function that extends a dataframe of aggregated sales with skipped rows\n",
    "                           so that the dataframe has explicit data on zero sales (sets 'item_cnt_month' to zero) \n",
    "                           instead of not mentioning an item for a particular month in a particular shop\n",
    "        Input:\n",
    "            data_monthly - (pd.DataFrame) sorted Pandas dataframe with aggregated sales data\n",
    "        Output:\n",
    "            data_monthly_ext - (pd.DataFrame) extended dataframe with explicit 0 rows\n",
    "    '''\n",
    "    item_ids = data_monthly['item_id'].unique()\n",
    "    shop_ids = data_monthly['shop_id'].unique()\n",
    "\n",
    "    start_date_year = int(data_monthly.iloc[0,:]['year'])\n",
    "    start_date_month = int(data_monthly.iloc[0,:]['month'])\n",
    "    end_date_year = int(data_monthly.iloc[-1,:]['year'])\n",
    "    end_date_month = int(data_monthly.iloc[-1,:]['month'])\n",
    "\n",
    "    # --- calculate total number of months in the period of historical data\n",
    "    number_of_months = (end_date_year - start_date_year) * 12 + (end_date_month - start_date_month) + 1\n",
    "\n",
    "    # will have data on all possible combinations of sales records\n",
    "    # for given shops, items and given time period \n",
    "    zero_rows = []\n",
    "    cur_month = start_date_month\n",
    "    cur_year = start_date_year\n",
    "\n",
    "    for i in range(number_of_months):\n",
    "        for shop in shop_ids:\n",
    "            for item in item_ids:\n",
    "                # adding a row - transaction for certain shop, year, month and item that will be zeroes initially\n",
    "                # and then joined with main data so that main data has explicit zeros as transactions\n",
    "                row = [cur_year, cur_month, shop, item]\n",
    "                zero_rows.append(row)\n",
    "        \n",
    "        # create a correction coeeficient for the case of December, 12th month, so that we het 12 and not 0\n",
    "        add_12_if_receive_0 = (12 - 12*math.ceil((cur_month+1)%12 / 12))\n",
    "        # increase month by 1, make sure it will be in [1,12] range\n",
    "        cur_month = (cur_month+1)%12 + add_12_if_receive_0\n",
    "        \n",
    "        # increase year if we arrived to the 1st month, January, after increasing month\n",
    "        if cur_month == 1:\n",
    "            cur_year += 1\n",
    "\n",
    "    # create a df of zero rows    \n",
    "    zero_rows = pd.DataFrame(zero_rows, columns=['year', 'month', 'shop_id', 'item_id'])\n",
    "\n",
    "    # merge zero rows with the main data, data_monthly\n",
    "    data_monthly_ext = pd.merge(zero_rows, data_monthly, on=['year','month', 'shop_id','item_id'], how='left')\n",
    "    # fill missing records with 0s\n",
    "    data_monthly_ext.fillna(0, inplace=True)\n",
    "    # make sure the dataframe is sorted\n",
    "    data_monthly_ext = data_monthly_ext.sort_values(by=['year', 'month', 'shop_id', 'item_id']).reset_index(drop=True)\n",
    "\n",
    "    return data_monthly_ext\n",
    "\n",
    "def add_global_features(data_monthly_ext):\n",
    "    '''\n",
    "        add_global_features() - function that adds features for training and predicting purposes.\n",
    "                                I called features global becasue they can be applied to the whole data\n",
    "                                before splitting into train and test without any data leakage in terms of forecasting\n",
    "        Input:\n",
    "            data_monthly_ext - (pd.DataFrame) a sorted by year and month Pandas dataframe with aggregated sales data\n",
    "        Output:\n",
    "            data_monthly_ext - (pd.DataFrame) initial dataframe with new features\n",
    "    '''\n",
    "    # --- add date_block to split data into train and test\n",
    "    start_month = data_monthly_ext.iloc[0,:]['month']\n",
    "    start_year = data_monthly_ext.iloc[0,:]['year']\n",
    "\n",
    "    # order of the starting month - we will subtract it from other month to understand how many month we moved forward\n",
    "    starting_month_agg = start_year*12 + start_month\n",
    "    # create arrays of year and month to perform calculations on them using np.vectorize\n",
    "    years = np.array(data_monthly_ext['year'])\n",
    "    months = np.array(data_monthly_ext['month'])\n",
    "    # for better performance create a vectorized function that computes block number (order of month from starting month)\n",
    "    calculate_block_num = np.vectorize(lambda year, month: (year*12 + month)- starting_month_agg)\n",
    "    # number of months since year 0 in starting date - to understand how many months we have moved ahead from start\n",
    "    data_monthly_ext['date_block_num'] = calculate_block_num(years, months)\n",
    "\n",
    "    # Feature engineering\n",
    "    # add rolling statistics\n",
    "\n",
    "    # define size of a rolling window\n",
    "    rolling_window_size = 3\n",
    "    # --- Calculate rolling statistics\n",
    "    def function_mean(column):\n",
    "        return column.rolling(window=rolling_window_size, min_periods=1).mean()\n",
    "\n",
    "    data_monthly_ext['item_cnt_roll_mean'] = data_monthly_ext.groupby(['shop_id','item_id'])['item_cnt_month'].apply(function_mean)\n",
    "    \n",
    "    # store average number of items sold per month for each item in a shop up to this point using pd.expanding function\n",
    "    data_monthly_ext['shop_item_mean_past'] = data_monthly_ext.groupby(['shop_id', 'item_id'])[['item_cnt_month']].expanding().mean().values\n",
    "\n",
    "    # store average number of items sold per month for each item up to this point using pd.expanding function\n",
    "    data_monthly_ext['item_mean_past'] = data_monthly_ext.groupby(['item_id'])[['item_cnt_month']].expanding().mean().values\n",
    "\n",
    "    # store average number of items sold per month for each category up to this point using pd.expanding function\n",
    "    data_monthly_ext['category_mean_past'] = data_monthly_ext.groupby(['item_category_id'])[['item_cnt_month']].expanding().mean().values\n",
    "    \n",
    "    # store average number of items sold per month for each year up to this point using pd.expanding function\n",
    "    data_monthly_ext['year_mean_past'] = data_monthly_ext.groupby(['year'])[['item_cnt_month']].expanding().mean().values\n",
    "    \n",
    "    # store average number of items sold per month for each month up to this point using pd.expanding function\n",
    "    data_monthly_ext['month_mean_past'] = data_monthly_ext.groupby(['month'])[['item_cnt_month']].expanding().mean().values\n",
    "\n",
    "\n",
    "    # let us calculate lags for the past 3 months\n",
    "    number_lags = range(1,4)\n",
    "\n",
    "    # --- generate shifted number of items sold from the past 1-3 months\n",
    "    for lag in number_lags:\n",
    "        feature_name = 'item_cnt_shifted{}'.format(lag)\n",
    "        data_monthly_ext[feature_name] = data_monthly_ext.groupby(['shop_id', 'item_id'])['item_cnt_month'].shift(lag)\n",
    "        # Fill the empty shifted features with 0\n",
    "        data_monthly_ext[feature_name] = data_monthly_ext[feature_name].fillna(0)\n",
    "\n",
    "    # generate trend which shows the change in item sales count\n",
    "    # trend = current - (previous_1 + ... + previous_n)/n = n*current - previous_1 - ... - previous_n, in our case n=3\n",
    "    # initially fill with current sales multiplied by number of times we will substract previous values to get average\n",
    "    data_monthly_ext['item_trend'] = len(number_lags) * data_monthly_ext['item_cnt_month']\n",
    "    # then subtract previous n values\n",
    "    for lag in number_lags:\n",
    "        feature_name = 'item_cnt_shifted{}'.format(lag)\n",
    "        data_monthly_ext['item_trend'] -= data_monthly_ext[feature_name]\n",
    "    # then divide by the number of times we have subtracted previous values to get average\n",
    "    data_monthly_ext['item_trend'] /= len(number_lags) \n",
    "\n",
    "    return data_monthly_ext\n",
    "\n",
    "\n",
    "def add_labels(data_monthly_ext):\n",
    "    '''\n",
    "        add_labels() - function that creates labels = a column of values we will predict = sales next month for an item in a shop\n",
    "        Input:\n",
    "            data_monthly_ext - (pd.DataFrame) a Pandas dataframe with aggregated sorted sales data\n",
    "        Output:\n",
    "            data_monthly_ext - (pd.DataFrame) dataframe with new column - 'itm_cnt_nxt_mnth', which is sales next month for an item in a shop\n",
    "    '''\n",
    "    data_monthly_ext['itm_cnt_nxt_mnth'] = data_monthly_ext.groupby(['shop_id', 'item_id'])['item_cnt_month'].shift(-1)\n",
    "    return data_monthly_ext\n",
    "\n",
    "def split_train_test_predict(data_monthly_ext):\n",
    "    '''\n",
    "        split_train_test_predict() - function that splits data into train, test and predict, where predict - is the last available month in the data,\n",
    "                       and for which we will be generating prediction for the next, unknown to us month. Test will be used to see how good is the model.\n",
    "                       Since we are dealing with timeseries, we cannot simply randomly split data. We also want to split exactly by month periods, so the standard \n",
    "                       split function will not work.\n",
    "        Input:\n",
    "            data_monthly - (pd.DataFrame) a Pandas dataframe with aggregated sales data\n",
    "        Output:\n",
    "            train_set - (pd.DataFrame) training data\n",
    "            test_set - (pd.DataFrame) testing data to see how we performed\n",
    "            predict_set - (pd.DataFrame) set of sales for the last month for which we will predict future sales for the next unseen month\n",
    "    '''\n",
    "    # calculate date_block_num for splitting\n",
    "    num_months = data_monthly_ext['date_block_num'].max() + 1\n",
    "    # starting from the 3rd month as we have rolling statistics with 3 month window (date_block_num starts with 0)\n",
    "    train_low = 3 - 1\n",
    "    # get approximately 70% of the data\n",
    "    train_high = int(0.7 * num_months) - 1\n",
    "    # testing data will have all the rest of the month up to a last one, which is used for predictiong as it does not have data on next month sales\n",
    "    test_high = num_months - 1\n",
    "\n",
    "    train_set = data_monthly_ext[(data_monthly_ext['date_block_num'] >= train_low) & (data_monthly_ext['date_block_num'] <= train_high )].copy()\n",
    "    test_set = data_monthly_ext[(data_monthly_ext['date_block_num'] > train_high) & (data_monthly_ext['date_block_num'] < test_high )].copy()\n",
    "    predict_set = data_monthly_ext[data_monthly_ext['date_block_num'] == test_high].copy()\n",
    "\n",
    "    # in train and test get rid of the null values in target variable\n",
    "    train_set = train_set.dropna(subset=['itm_cnt_nxt_mnth'])\n",
    "    test_set = test_set.dropna(subset=['itm_cnt_nxt_mnth'])\n",
    "\n",
    "    return train_set, test_set, predict_set\n",
    "\n",
    "\n",
    "def split_data_labels(train_set, test_set, predict_set):\n",
    "    '''\n",
    "        split_data_labels() - function that splits sets into data (features) and labels to predict, \n",
    "            specifically train and test into X_train, Y_train, X_test, Y_test \n",
    "            and also creates X_predict for prediction in the same format as X_train and X_test.\n",
    "            X_predict - is the last available month in the data, and for which we will be generating prediction for the next, unknown to us, month. \n",
    "            Test will be used to see how good is the model.\n",
    "            Since we are dealing with timeseries, we cannot simply randomly split data. We also want to split exactly by month periods, so the standard \n",
    "            split function will not work.\n",
    "        Input:\n",
    "            train_set - (pd.DataFrame) training data\n",
    "            test_set - (pd.DataFrame) testing data to see how we performed\n",
    "            predict_set - (pd.DataFrame) set of sales for the last month for which we will predict future sales for the next unseen month\n",
    "        Output:\n",
    "            X_train - (pd.DataFrame) training features\n",
    "            Y_train - (pd.DataFrame) training labels\n",
    "            X_test - (pd.DataFrame) testing features\n",
    "            Y_test - (pd.DataFrame) testing labels\n",
    "            X_predict - (pd.DataFrame) features for predicting unknown data  \n",
    "    '''\n",
    "    # create train and test sets and labels. \n",
    "    X_train = train_set.drop(['itm_cnt_nxt_mnth'], axis=1)\n",
    "    Y_train = train_set['itm_cnt_nxt_mnth'].astype(int)\n",
    "\n",
    "    X_test = test_set.drop(['itm_cnt_nxt_mnth'], axis=1)\n",
    "    Y_test = test_set['itm_cnt_nxt_mnth'].astype(int)\n",
    "\n",
    "    X_predict = predict_set[X_train.columns]\n",
    "    \n",
    "    return X_train, Y_train, X_test, Y_test, X_predict"
   ]
  },
  {
   "cell_type": "markdown",
   "metadata": {},
   "source": [
    "#### Calling all the processing functions "
   ]
  },
  {
   "cell_type": "code",
   "execution_count": 6,
   "metadata": {},
   "outputs": [],
   "source": [
    "def return_processed_data(data):\n",
    "    '''\n",
    "        return_processed_data() - function that combines all of the ETL steps for ML training and predicting.\n",
    "                                  Raises exception if datafile is not in needed format or has less than 6 month of data\n",
    "        Input:\n",
    "            data - (pd.DataFrame) dataframe with sales data.\n",
    "                    Needed columns are: date, shop_id, item_id, item_price, item_cnt_day, item_name, item_category_id\n",
    "        Output:\n",
    "            X_train - (pd.DataFrame) training features\n",
    "            Y_train - (pd.DataFrame) training labels\n",
    "            X_test - (pd.DataFrame) testing features\n",
    "            Y_test - (pd.DataFrame) testing labels\n",
    "            X_predict - (pd.DataFrame) data set (features) for predicting unknown data\n",
    "            extended_test_set - (pd.DataFrame) data set of test data features, like X_test, but with all the original columns (like item_id and etc.) to return to a user later\n",
    "            extended_predict_set - (pd.DataFrame) data set for predicting data, like X_predict, but with all the original columns (like item_id and etc.) to return to a user later\n",
    "    '''\n",
    "    data = check_data_correctnes(data)\n",
    "    data_monthly = clean_and_aggreagate(data)\n",
    "    data_monthly_ext = add_empty_rows(data_monthly)\n",
    "    data_monthly_ext = add_global_features(data_monthly_ext)\n",
    "    data_monthly_ext = add_labels(data_monthly_ext)\n",
    "    train_set, test_set, predict_set = split_train_test_predict(data_monthly_ext)\n",
    "    X_train, Y_train, X_test, Y_test, X_predict = split_data_labels(train_set, test_set, predict_set)\n",
    "\n",
    "    # --- select features that will be used for training, testing and predicting\n",
    "    features = ['item_cnt_month', 'item_trend', 'item_cnt_roll_mean', 'item_cnt_day_mean', \n",
    "                'month_mean_past', 'item_mean_past', 'category_mean_past', 'shop_item_mean_past', 'year_mean_past']\n",
    "    # ---- Select subsets\n",
    "    # First, save the data we will be predicting before we will select features for modelling from it - 'extended_predict_set'. \n",
    "    # This will allow us to return prediction in a clear format to the user\n",
    "    extended_test_set = X_test\n",
    "    extended_predict_set = X_predict\n",
    "    # --- subset other Xs            \n",
    "    X_train = X_train[features]\n",
    "    X_test = X_test[features]\n",
    "    X_predict = X_predict[features]\n",
    "\n",
    "    return X_train, Y_train, X_test, Y_test, X_predict, extended_test_set, extended_predict_set"
   ]
  },
  {
   "cell_type": "code",
   "execution_count": null,
   "metadata": {},
   "outputs": [],
   "source": []
  },
  {
   "cell_type": "markdown",
   "metadata": {},
   "source": [
    "### Select shops to train on "
   ]
  },
  {
   "cell_type": "code",
   "execution_count": 38,
   "metadata": {},
   "outputs": [],
   "source": [
    "data = preprocess_data('data/sales_train.csv', 'data/items.csv', use_shop_ids=range(30))"
   ]
  },
  {
   "cell_type": "code",
   "execution_count": 39,
   "metadata": {},
   "outputs": [
    {
     "data": {
      "text/plain": [
       "(1357300, 7)"
      ]
     },
     "execution_count": 39,
     "metadata": {},
     "output_type": "execute_result"
    }
   ],
   "source": [
    "data.shape"
   ]
  },
  {
   "cell_type": "code",
   "execution_count": 553,
   "metadata": {},
   "outputs": [
    {
     "data": {
      "text/html": [
       "<div>\n",
       "<style scoped>\n",
       "    .dataframe tbody tr th:only-of-type {\n",
       "        vertical-align: middle;\n",
       "    }\n",
       "\n",
       "    .dataframe tbody tr th {\n",
       "        vertical-align: top;\n",
       "    }\n",
       "\n",
       "    .dataframe thead th {\n",
       "        text-align: right;\n",
       "    }\n",
       "</style>\n",
       "<table border=\"1\" class=\"dataframe\">\n",
       "  <thead>\n",
       "    <tr style=\"text-align: right;\">\n",
       "      <th></th>\n",
       "      <th>count</th>\n",
       "      <th>mean</th>\n",
       "      <th>std</th>\n",
       "      <th>min</th>\n",
       "      <th>25%</th>\n",
       "      <th>50%</th>\n",
       "      <th>75%</th>\n",
       "      <th>max</th>\n",
       "    </tr>\n",
       "  </thead>\n",
       "  <tbody>\n",
       "    <tr>\n",
       "      <th>shop_id</th>\n",
       "      <td>1353959.0</td>\n",
       "      <td>18.514513</td>\n",
       "      <td>8.563736</td>\n",
       "      <td>0.00</td>\n",
       "      <td>12.0</td>\n",
       "      <td>21.0</td>\n",
       "      <td>26.0</td>\n",
       "      <td>29.0</td>\n",
       "    </tr>\n",
       "    <tr>\n",
       "      <th>item_id</th>\n",
       "      <td>1353959.0</td>\n",
       "      <td>10029.469080</td>\n",
       "      <td>6329.406517</td>\n",
       "      <td>18.00</td>\n",
       "      <td>4351.0</td>\n",
       "      <td>8754.0</td>\n",
       "      <td>15487.0</td>\n",
       "      <td>22169.0</td>\n",
       "    </tr>\n",
       "    <tr>\n",
       "      <th>item_price</th>\n",
       "      <td>1353959.0</td>\n",
       "      <td>932.315131</td>\n",
       "      <td>1783.401949</td>\n",
       "      <td>0.07</td>\n",
       "      <td>268.0</td>\n",
       "      <td>449.0</td>\n",
       "      <td>999.0</td>\n",
       "      <td>307980.0</td>\n",
       "    </tr>\n",
       "    <tr>\n",
       "      <th>item_cnt_day</th>\n",
       "      <td>1353959.0</td>\n",
       "      <td>1.264808</td>\n",
       "      <td>3.210872</td>\n",
       "      <td>1.00</td>\n",
       "      <td>1.0</td>\n",
       "      <td>1.0</td>\n",
       "      <td>1.0</td>\n",
       "      <td>2169.0</td>\n",
       "    </tr>\n",
       "    <tr>\n",
       "      <th>item_category_id</th>\n",
       "      <td>1353959.0</td>\n",
       "      <td>39.826032</td>\n",
       "      <td>17.368774</td>\n",
       "      <td>0.00</td>\n",
       "      <td>28.0</td>\n",
       "      <td>40.0</td>\n",
       "      <td>55.0</td>\n",
       "      <td>83.0</td>\n",
       "    </tr>\n",
       "    <tr>\n",
       "      <th>month</th>\n",
       "      <td>1353959.0</td>\n",
       "      <td>6.188125</td>\n",
       "      <td>3.557311</td>\n",
       "      <td>1.00</td>\n",
       "      <td>3.0</td>\n",
       "      <td>6.0</td>\n",
       "      <td>9.0</td>\n",
       "      <td>12.0</td>\n",
       "    </tr>\n",
       "    <tr>\n",
       "      <th>year</th>\n",
       "      <td>1353959.0</td>\n",
       "      <td>2013.766341</td>\n",
       "      <td>0.772012</td>\n",
       "      <td>2013.00</td>\n",
       "      <td>2013.0</td>\n",
       "      <td>2014.0</td>\n",
       "      <td>2014.0</td>\n",
       "      <td>2015.0</td>\n",
       "    </tr>\n",
       "  </tbody>\n",
       "</table>\n",
       "</div>"
      ],
      "text/plain": [
       "                      count          mean          std      min     25%  \\\n",
       "shop_id           1353959.0     18.514513     8.563736     0.00    12.0   \n",
       "item_id           1353959.0  10029.469080  6329.406517    18.00  4351.0   \n",
       "item_price        1353959.0    932.315131  1783.401949     0.07   268.0   \n",
       "item_cnt_day      1353959.0      1.264808     3.210872     1.00     1.0   \n",
       "item_category_id  1353959.0     39.826032    17.368774     0.00    28.0   \n",
       "month             1353959.0      6.188125     3.557311     1.00     3.0   \n",
       "year              1353959.0   2013.766341     0.772012  2013.00  2013.0   \n",
       "\n",
       "                     50%      75%       max  \n",
       "shop_id             21.0     26.0      29.0  \n",
       "item_id           8754.0  15487.0   22169.0  \n",
       "item_price         449.0    999.0  307980.0  \n",
       "item_cnt_day         1.0      1.0    2169.0  \n",
       "item_category_id    40.0     55.0      83.0  \n",
       "month                6.0      9.0      12.0  \n",
       "year              2014.0   2014.0    2015.0  "
      ]
     },
     "execution_count": 553,
     "metadata": {},
     "output_type": "execute_result"
    }
   ],
   "source": [
    "data.describe().T"
   ]
  },
  {
   "cell_type": "markdown",
   "metadata": {},
   "source": [
    "#### Check for nulls "
   ]
  },
  {
   "cell_type": "code",
   "execution_count": 40,
   "metadata": {},
   "outputs": [
    {
     "data": {
      "text/plain": [
       "date                False\n",
       "shop_id             False\n",
       "item_id             False\n",
       "item_price          False\n",
       "item_cnt_day        False\n",
       "item_name           False\n",
       "item_category_id    False\n",
       "dtype: bool"
      ]
     },
     "execution_count": 40,
     "metadata": {},
     "output_type": "execute_result"
    }
   ],
   "source": [
    "data.isna().any()"
   ]
  },
  {
   "cell_type": "markdown",
   "metadata": {},
   "source": [
    "#### create an aggregated dataframe to explore data before adding new features"
   ]
  },
  {
   "cell_type": "code",
   "execution_count": 498,
   "metadata": {},
   "outputs": [],
   "source": [
    "# delete data with negative item counts or prices\n",
    "data = data[data['item_cnt_day']>0]\n",
    "data = data[data['item_price']>0]\n",
    "# clean from any null values\n",
    "data = data.dropna()\n",
    "    \n",
    "# convert date from string to datetime format\n",
    "data['date'] = pd.to_datetime(data['date'], format='%d.%m.%Y')\n",
    "\n",
    "# Add month and year and aggregate data\n",
    "data['month'] = data['date'].dt.month\n",
    "data['year'] = data['date'].dt.year\n",
    "\n",
    "# making sure we are getting only needed columns\n",
    "keep_columns_agg = ['shop_id', 'item_id', 'item_price', 'item_cnt_day', 'month', 'year', 'item_category_id']\n",
    "\n",
    "# aggregate data monthly and by shops and items \n",
    "data_agg = data[keep_columns_agg].groupby(['year','month', 'shop_id', 'item_category_id', 'item_id'], as_index=False).agg(\n",
    "        {'item_price':'mean', \n",
    "        'item_cnt_day':['sum', 'mean'] })\n",
    "\n",
    "# make multilevel index flat\n",
    "data_agg.columns = data_agg.columns.map(''.join)\n",
    "\n",
    "# rename columns\n",
    "data_agg = data_agg.rename(columns={\n",
    "        'item_pricemean': 'item_price_avg', \n",
    "        'item_cnt_daysum':'item_cnt_month',\n",
    "        'item_cnt_daymean':'item_cnt_day_mean'})\n",
    "    \n",
    "# sort the dataframe for future analysis\n",
    "data_agg = data_agg.sort_values(by=['year', 'month', 'shop_id', 'item_id']).reset_index(drop=True)"
   ]
  },
  {
   "cell_type": "markdown",
   "metadata": {},
   "source": [
    "#### Check if the size changed after dropping nulls and negative prices and number of items "
   ]
  },
  {
   "cell_type": "code",
   "execution_count": 37,
   "metadata": {},
   "outputs": [
    {
     "data": {
      "text/plain": [
       "1357300"
      ]
     },
     "execution_count": 37,
     "metadata": {},
     "output_type": "execute_result"
    }
   ],
   "source": [
    "data.shape[0]"
   ]
  },
  {
   "cell_type": "markdown",
   "metadata": {},
   "source": [
    "#### The size have not changed "
   ]
  },
  {
   "cell_type": "code",
   "execution_count": 499,
   "metadata": {},
   "outputs": [
    {
     "data": {
      "text/html": [
       "<div>\n",
       "<style scoped>\n",
       "    .dataframe tbody tr th:only-of-type {\n",
       "        vertical-align: middle;\n",
       "    }\n",
       "\n",
       "    .dataframe tbody tr th {\n",
       "        vertical-align: top;\n",
       "    }\n",
       "\n",
       "    .dataframe thead th {\n",
       "        text-align: right;\n",
       "    }\n",
       "</style>\n",
       "<table border=\"1\" class=\"dataframe\">\n",
       "  <thead>\n",
       "    <tr style=\"text-align: right;\">\n",
       "      <th></th>\n",
       "      <th>year</th>\n",
       "      <th>month</th>\n",
       "      <th>shop_id</th>\n",
       "      <th>item_category_id</th>\n",
       "      <th>item_id</th>\n",
       "      <th>item_price_avg</th>\n",
       "      <th>item_cnt_month</th>\n",
       "      <th>item_cnt_day_mean</th>\n",
       "    </tr>\n",
       "  </thead>\n",
       "  <tbody>\n",
       "    <tr>\n",
       "      <th>0</th>\n",
       "      <td>2013</td>\n",
       "      <td>1</td>\n",
       "      <td>0</td>\n",
       "      <td>40</td>\n",
       "      <td>32</td>\n",
       "      <td>221.0</td>\n",
       "      <td>6.0</td>\n",
       "      <td>1.5</td>\n",
       "    </tr>\n",
       "    <tr>\n",
       "      <th>1</th>\n",
       "      <td>2013</td>\n",
       "      <td>1</td>\n",
       "      <td>0</td>\n",
       "      <td>37</td>\n",
       "      <td>33</td>\n",
       "      <td>347.0</td>\n",
       "      <td>3.0</td>\n",
       "      <td>1.0</td>\n",
       "    </tr>\n",
       "    <tr>\n",
       "      <th>2</th>\n",
       "      <td>2013</td>\n",
       "      <td>1</td>\n",
       "      <td>0</td>\n",
       "      <td>40</td>\n",
       "      <td>35</td>\n",
       "      <td>247.0</td>\n",
       "      <td>1.0</td>\n",
       "      <td>1.0</td>\n",
       "    </tr>\n",
       "    <tr>\n",
       "      <th>3</th>\n",
       "      <td>2013</td>\n",
       "      <td>1</td>\n",
       "      <td>0</td>\n",
       "      <td>40</td>\n",
       "      <td>43</td>\n",
       "      <td>221.0</td>\n",
       "      <td>1.0</td>\n",
       "      <td>1.0</td>\n",
       "    </tr>\n",
       "    <tr>\n",
       "      <th>4</th>\n",
       "      <td>2013</td>\n",
       "      <td>1</td>\n",
       "      <td>0</td>\n",
       "      <td>57</td>\n",
       "      <td>51</td>\n",
       "      <td>128.5</td>\n",
       "      <td>2.0</td>\n",
       "      <td>1.0</td>\n",
       "    </tr>\n",
       "  </tbody>\n",
       "</table>\n",
       "</div>"
      ],
      "text/plain": [
       "   year  month  shop_id  item_category_id  item_id  item_price_avg  \\\n",
       "0  2013      1        0                40       32           221.0   \n",
       "1  2013      1        0                37       33           347.0   \n",
       "2  2013      1        0                40       35           247.0   \n",
       "3  2013      1        0                40       43           221.0   \n",
       "4  2013      1        0                57       51           128.5   \n",
       "\n",
       "   item_cnt_month  item_cnt_day_mean  \n",
       "0             6.0                1.5  \n",
       "1             3.0                1.0  \n",
       "2             1.0                1.0  \n",
       "3             1.0                1.0  \n",
       "4             2.0                1.0  "
      ]
     },
     "execution_count": 499,
     "metadata": {},
     "output_type": "execute_result"
    }
   ],
   "source": [
    "data_agg.head()"
   ]
  },
  {
   "cell_type": "code",
   "execution_count": 500,
   "metadata": {},
   "outputs": [
    {
     "data": {
      "text/plain": [
       "(745173, 8)"
      ]
     },
     "execution_count": 500,
     "metadata": {},
     "output_type": "execute_result"
    }
   ],
   "source": [
    "data_agg.shape"
   ]
  },
  {
   "cell_type": "code",
   "execution_count": 501,
   "metadata": {},
   "outputs": [
    {
     "data": {
      "text/html": [
       "<div>\n",
       "<style scoped>\n",
       "    .dataframe tbody tr th:only-of-type {\n",
       "        vertical-align: middle;\n",
       "    }\n",
       "\n",
       "    .dataframe tbody tr th {\n",
       "        vertical-align: top;\n",
       "    }\n",
       "\n",
       "    .dataframe thead th {\n",
       "        text-align: right;\n",
       "    }\n",
       "</style>\n",
       "<table border=\"1\" class=\"dataframe\">\n",
       "  <thead>\n",
       "    <tr style=\"text-align: right;\">\n",
       "      <th></th>\n",
       "      <th>count</th>\n",
       "      <th>mean</th>\n",
       "      <th>std</th>\n",
       "      <th>min</th>\n",
       "      <th>25%</th>\n",
       "      <th>50%</th>\n",
       "      <th>75%</th>\n",
       "      <th>max</th>\n",
       "    </tr>\n",
       "  </thead>\n",
       "  <tbody>\n",
       "    <tr>\n",
       "      <th>year</th>\n",
       "      <td>745173.0</td>\n",
       "      <td>2013.778890</td>\n",
       "      <td>0.780940</td>\n",
       "      <td>2013.00</td>\n",
       "      <td>2013.0</td>\n",
       "      <td>2014.0</td>\n",
       "      <td>2014.0</td>\n",
       "      <td>2015.0</td>\n",
       "    </tr>\n",
       "    <tr>\n",
       "      <th>month</th>\n",
       "      <td>745173.0</td>\n",
       "      <td>6.090788</td>\n",
       "      <td>3.474579</td>\n",
       "      <td>1.00</td>\n",
       "      <td>3.0</td>\n",
       "      <td>6.0</td>\n",
       "      <td>9.0</td>\n",
       "      <td>12.0</td>\n",
       "    </tr>\n",
       "    <tr>\n",
       "      <th>shop_id</th>\n",
       "      <td>745173.0</td>\n",
       "      <td>17.838409</td>\n",
       "      <td>8.586221</td>\n",
       "      <td>0.00</td>\n",
       "      <td>10.0</td>\n",
       "      <td>19.0</td>\n",
       "      <td>25.0</td>\n",
       "      <td>29.0</td>\n",
       "    </tr>\n",
       "    <tr>\n",
       "      <th>item_category_id</th>\n",
       "      <td>745173.0</td>\n",
       "      <td>41.338618</td>\n",
       "      <td>16.496649</td>\n",
       "      <td>0.00</td>\n",
       "      <td>30.0</td>\n",
       "      <td>40.0</td>\n",
       "      <td>55.0</td>\n",
       "      <td>83.0</td>\n",
       "    </tr>\n",
       "    <tr>\n",
       "      <th>item_id</th>\n",
       "      <td>745173.0</td>\n",
       "      <td>10547.819149</td>\n",
       "      <td>6250.862902</td>\n",
       "      <td>18.00</td>\n",
       "      <td>4907.0</td>\n",
       "      <td>10300.0</td>\n",
       "      <td>15996.0</td>\n",
       "      <td>22169.0</td>\n",
       "    </tr>\n",
       "    <tr>\n",
       "      <th>item_price_avg</th>\n",
       "      <td>745173.0</td>\n",
       "      <td>821.537296</td>\n",
       "      <td>1608.297268</td>\n",
       "      <td>0.09</td>\n",
       "      <td>199.0</td>\n",
       "      <td>399.0</td>\n",
       "      <td>899.0</td>\n",
       "      <td>307980.0</td>\n",
       "    </tr>\n",
       "    <tr>\n",
       "      <th>item_cnt_month</th>\n",
       "      <td>745173.0</td>\n",
       "      <td>2.298121</td>\n",
       "      <td>8.805831</td>\n",
       "      <td>1.00</td>\n",
       "      <td>1.0</td>\n",
       "      <td>1.0</td>\n",
       "      <td>2.0</td>\n",
       "      <td>2253.0</td>\n",
       "    </tr>\n",
       "    <tr>\n",
       "      <th>item_cnt_day_mean</th>\n",
       "      <td>745173.0</td>\n",
       "      <td>1.085481</td>\n",
       "      <td>1.738946</td>\n",
       "      <td>1.00</td>\n",
       "      <td>1.0</td>\n",
       "      <td>1.0</td>\n",
       "      <td>1.0</td>\n",
       "      <td>1000.0</td>\n",
       "    </tr>\n",
       "  </tbody>\n",
       "</table>\n",
       "</div>"
      ],
      "text/plain": [
       "                      count          mean          std      min     25%  \\\n",
       "year               745173.0   2013.778890     0.780940  2013.00  2013.0   \n",
       "month              745173.0      6.090788     3.474579     1.00     3.0   \n",
       "shop_id            745173.0     17.838409     8.586221     0.00    10.0   \n",
       "item_category_id   745173.0     41.338618    16.496649     0.00    30.0   \n",
       "item_id            745173.0  10547.819149  6250.862902    18.00  4907.0   \n",
       "item_price_avg     745173.0    821.537296  1608.297268     0.09   199.0   \n",
       "item_cnt_month     745173.0      2.298121     8.805831     1.00     1.0   \n",
       "item_cnt_day_mean  745173.0      1.085481     1.738946     1.00     1.0   \n",
       "\n",
       "                       50%      75%       max  \n",
       "year                2014.0   2014.0    2015.0  \n",
       "month                  6.0      9.0      12.0  \n",
       "shop_id               19.0     25.0      29.0  \n",
       "item_category_id      40.0     55.0      83.0  \n",
       "item_id            10300.0  15996.0   22169.0  \n",
       "item_price_avg       399.0    899.0  307980.0  \n",
       "item_cnt_month         1.0      2.0    2253.0  \n",
       "item_cnt_day_mean      1.0      1.0    1000.0  "
      ]
     },
     "execution_count": 501,
     "metadata": {},
     "output_type": "execute_result"
    }
   ],
   "source": [
    "data_agg.describe().T"
   ]
  },
  {
   "cell_type": "code",
   "execution_count": 502,
   "metadata": {},
   "outputs": [
    {
     "data": {
      "text/html": [
       "<div>\n",
       "<style scoped>\n",
       "    .dataframe tbody tr th:only-of-type {\n",
       "        vertical-align: middle;\n",
       "    }\n",
       "\n",
       "    .dataframe tbody tr th {\n",
       "        vertical-align: top;\n",
       "    }\n",
       "\n",
       "    .dataframe thead th {\n",
       "        text-align: right;\n",
       "    }\n",
       "</style>\n",
       "<table border=\"1\" class=\"dataframe\">\n",
       "  <thead>\n",
       "    <tr style=\"text-align: right;\">\n",
       "      <th></th>\n",
       "      <th>year</th>\n",
       "      <th>month</th>\n",
       "      <th>shop_id</th>\n",
       "      <th>item_category_id</th>\n",
       "      <th>item_id</th>\n",
       "      <th>item_price_avg</th>\n",
       "      <th>item_cnt_month</th>\n",
       "      <th>item_cnt_day_mean</th>\n",
       "    </tr>\n",
       "  </thead>\n",
       "  <tbody>\n",
       "    <tr>\n",
       "      <th>745168</th>\n",
       "      <td>2015</td>\n",
       "      <td>10</td>\n",
       "      <td>28</td>\n",
       "      <td>37</td>\n",
       "      <td>22145</td>\n",
       "      <td>199.0</td>\n",
       "      <td>1.0</td>\n",
       "      <td>1.0</td>\n",
       "    </tr>\n",
       "    <tr>\n",
       "      <th>745169</th>\n",
       "      <td>2015</td>\n",
       "      <td>10</td>\n",
       "      <td>28</td>\n",
       "      <td>37</td>\n",
       "      <td>22154</td>\n",
       "      <td>299.0</td>\n",
       "      <td>1.0</td>\n",
       "      <td>1.0</td>\n",
       "    </tr>\n",
       "    <tr>\n",
       "      <th>745170</th>\n",
       "      <td>2015</td>\n",
       "      <td>10</td>\n",
       "      <td>28</td>\n",
       "      <td>40</td>\n",
       "      <td>22162</td>\n",
       "      <td>349.0</td>\n",
       "      <td>1.0</td>\n",
       "      <td>1.0</td>\n",
       "    </tr>\n",
       "    <tr>\n",
       "      <th>745171</th>\n",
       "      <td>2015</td>\n",
       "      <td>10</td>\n",
       "      <td>28</td>\n",
       "      <td>40</td>\n",
       "      <td>22163</td>\n",
       "      <td>169.0</td>\n",
       "      <td>1.0</td>\n",
       "      <td>1.0</td>\n",
       "    </tr>\n",
       "    <tr>\n",
       "      <th>745172</th>\n",
       "      <td>2015</td>\n",
       "      <td>10</td>\n",
       "      <td>28</td>\n",
       "      <td>49</td>\n",
       "      <td>22167</td>\n",
       "      <td>299.0</td>\n",
       "      <td>1.0</td>\n",
       "      <td>1.0</td>\n",
       "    </tr>\n",
       "  </tbody>\n",
       "</table>\n",
       "</div>"
      ],
      "text/plain": [
       "        year  month  shop_id  item_category_id  item_id  item_price_avg  \\\n",
       "745168  2015     10       28                37    22145           199.0   \n",
       "745169  2015     10       28                37    22154           299.0   \n",
       "745170  2015     10       28                40    22162           349.0   \n",
       "745171  2015     10       28                40    22163           169.0   \n",
       "745172  2015     10       28                49    22167           299.0   \n",
       "\n",
       "        item_cnt_month  item_cnt_day_mean  \n",
       "745168             1.0                1.0  \n",
       "745169             1.0                1.0  \n",
       "745170             1.0                1.0  \n",
       "745171             1.0                1.0  \n",
       "745172             1.0                1.0  "
      ]
     },
     "execution_count": 502,
     "metadata": {},
     "output_type": "execute_result"
    }
   ],
   "source": [
    "data_agg.tail()"
   ]
  },
  {
   "cell_type": "code",
   "execution_count": 503,
   "metadata": {},
   "outputs": [
    {
     "name": "stdout",
     "output_type": "stream",
     "text": [
      "Number of transactions is 1353959\n"
     ]
    }
   ],
   "source": [
    "numb_transactions = data.shape[0]\n",
    "print('Number of transactions is {}'.format(numb_transactions))"
   ]
  },
  {
   "cell_type": "code",
   "execution_count": 504,
   "metadata": {},
   "outputs": [
    {
     "name": "stdout",
     "output_type": "stream",
     "text": [
      "Number of shops is 30\n"
     ]
    }
   ],
   "source": [
    "numb_shops = data_agg['shop_id'].nunique()\n",
    "print('Number of shops is {}'.format(numb_shops))"
   ]
  },
  {
   "cell_type": "code",
   "execution_count": 505,
   "metadata": {},
   "outputs": [
    {
     "name": "stdout",
     "output_type": "stream",
     "text": [
      "Number of categories is 73\n"
     ]
    }
   ],
   "source": [
    "numb_categories = data_agg['item_category_id'].nunique()\n",
    "print('Number of categories is {}'.format(numb_categories))"
   ]
  },
  {
   "cell_type": "code",
   "execution_count": 506,
   "metadata": {},
   "outputs": [
    {
     "name": "stdout",
     "output_type": "stream",
     "text": [
      "Number of unique items is 18712\n"
     ]
    }
   ],
   "source": [
    "numb_items = data_agg['item_id'].nunique()\n",
    "print('Number of unique items is {}'.format(numb_items))"
   ]
  },
  {
   "cell_type": "markdown",
   "metadata": {},
   "source": [
    "### Explore trends and seasonality in the data "
   ]
  },
  {
   "cell_type": "markdown",
   "metadata": {},
   "source": [
    "#### Find out how many items were sold each month in all the shops and see if there are seasonal trends "
   ]
  },
  {
   "cell_type": "code",
   "execution_count": 507,
   "metadata": {},
   "outputs": [
    {
     "data": {
      "text/plain": [
       "0    69798.0\n",
       "1    69466.0\n",
       "2    68528.0\n",
       "3    48717.0\n",
       "4    47680.0\n",
       "Name: item_cnt_month, dtype: float64"
      ]
     },
     "execution_count": 507,
     "metadata": {},
     "output_type": "execute_result"
    }
   ],
   "source": [
    "from statsmodels.api import tsa\n",
    "\n",
    "total_sales_count = data_agg.groupby(['year', 'month'])['item_cnt_month'].sum().reset_index(drop=True)\n",
    "total_sales_count.head()\n"
   ]
  },
  {
   "cell_type": "markdown",
   "metadata": {},
   "source": [
    "#### See if there are yearly trends by using  'period=12'"
   ]
  },
  {
   "cell_type": "code",
   "execution_count": 508,
   "metadata": {},
   "outputs": [
    {
     "data": {
      "image/png": "[encoded data removed]",
      "text/plain": [
       "<Figure size 432x288 with 4 Axes>"
      ]
     },
     "metadata": {
      "needs_background": "light"
     },
     "output_type": "display_data"
    }
   ],
   "source": [
    "decompose = tsa.seasonal_decompose(total_sales_count,period=12)\n",
    "graph = decompose.plot()"
   ]
  },
  {
   "cell_type": "markdown",
   "metadata": {},
   "source": [
    "### We see several things from the above decomposition and can take appropriate actions: \n",
    "1. there is a negative trend overall, so year 2014 sold more than 2015 for some reason. To control for that, we will calculate yearly mean of items sold regardless of shops and item ids ('year_mean_past' variable) and\n",
    "also the 'trend' variable to see how sales of this item performed lately\n",
    "2. there is a seasonal trend,and so around December (12th month) there is a spike of sold items probably related to the gift season due to New Year and Christmas. To control for that, we will calculate monthly mean of items sold regardless of shops and item ids ('month_mean_past' variable)  "
   ]
  },
  {
   "cell_type": "markdown",
   "metadata": {},
   "source": [
    "### Explore how different items, categories and shops perform "
   ]
  },
  {
   "cell_type": "code",
   "execution_count": 509,
   "metadata": {},
   "outputs": [],
   "source": [
    "# group by items \n",
    "grouped_by_items = data_agg.groupby('item_id')[['item_cnt_month']].sum().reset_index()"
   ]
  },
  {
   "cell_type": "code",
   "execution_count": 510,
   "metadata": {},
   "outputs": [
    {
     "data": {
      "text/html": [
       "<div>\n",
       "<style scoped>\n",
       "    .dataframe tbody tr th:only-of-type {\n",
       "        vertical-align: middle;\n",
       "    }\n",
       "\n",
       "    .dataframe tbody tr th {\n",
       "        vertical-align: top;\n",
       "    }\n",
       "\n",
       "    .dataframe thead th {\n",
       "        text-align: right;\n",
       "    }\n",
       "</style>\n",
       "<table border=\"1\" class=\"dataframe\">\n",
       "  <thead>\n",
       "    <tr style=\"text-align: right;\">\n",
       "      <th></th>\n",
       "      <th>item_id</th>\n",
       "      <th>item_cnt_month</th>\n",
       "    </tr>\n",
       "  </thead>\n",
       "  <tbody>\n",
       "    <tr>\n",
       "      <th>0</th>\n",
       "      <td>18</td>\n",
       "      <td>1.0</td>\n",
       "    </tr>\n",
       "    <tr>\n",
       "      <th>1</th>\n",
       "      <td>19</td>\n",
       "      <td>1.0</td>\n",
       "    </tr>\n",
       "    <tr>\n",
       "      <th>2</th>\n",
       "      <td>27</td>\n",
       "      <td>35.0</td>\n",
       "    </tr>\n",
       "    <tr>\n",
       "      <th>3</th>\n",
       "      <td>28</td>\n",
       "      <td>36.0</td>\n",
       "    </tr>\n",
       "    <tr>\n",
       "      <th>4</th>\n",
       "      <td>29</td>\n",
       "      <td>9.0</td>\n",
       "    </tr>\n",
       "  </tbody>\n",
       "</table>\n",
       "</div>"
      ],
      "text/plain": [
       "   item_id  item_cnt_month\n",
       "0       18             1.0\n",
       "1       19             1.0\n",
       "2       27            35.0\n",
       "3       28            36.0\n",
       "4       29             9.0"
      ]
     },
     "execution_count": 510,
     "metadata": {},
     "output_type": "execute_result"
    }
   ],
   "source": [
    "grouped_by_items.head()"
   ]
  },
  {
   "cell_type": "code",
   "execution_count": 511,
   "metadata": {},
   "outputs": [
    {
     "data": {
      "text/plain": [
       "18712"
      ]
     },
     "execution_count": 511,
     "metadata": {},
     "output_type": "execute_result"
    }
   ],
   "source": [
    "grouped_by_items.shape[0]"
   ]
  },
  {
   "cell_type": "markdown",
   "metadata": {},
   "source": [
    "#### As we can see there are too many items to attempt to quickly plot the amounts, so let's show the statistics to show that the items sold is quite different among items"
   ]
  },
  {
   "cell_type": "code",
   "execution_count": 512,
   "metadata": {},
   "outputs": [
    {
     "name": "stdout",
     "output_type": "stream",
     "text": [
      "The standard deviation is  698.8973181785254\n",
      "The maximum of items sold is  88018.0\n",
      "The minimum of items sold is  1.0\n"
     ]
    }
   ],
   "source": [
    "print('The standard deviation is ', grouped_by_items['item_cnt_month'].std())\n",
    "print('The maximum of items sold is ', grouped_by_items['item_cnt_month'].max())\n",
    "print('The minimum of items sold is ', grouped_by_items['item_cnt_month'].min())"
   ]
  },
  {
   "cell_type": "markdown",
   "metadata": {},
   "source": [
    "### Depending on the item, the number of items sold varies from 88 thousands to 1 item in the whole period, and standard deviation is around 700 items. To account for this dependency, we will create a varaiable with average amount of items sold for each item id up to each month ('item_mean_past')"
   ]
  },
  {
   "cell_type": "code",
   "execution_count": 606,
   "metadata": {},
   "outputs": [],
   "source": [
    "categories_agg = data_agg.groupby(['item_category_id'])[['item_cnt_month']].sum().reset_index()"
   ]
  },
  {
   "cell_type": "code",
   "execution_count": 607,
   "metadata": {},
   "outputs": [
    {
     "data": {
      "image/png": "[encoded data removed]",
      "text/plain": [
       "<Figure size 1332x756 with 1 Axes>"
      ]
     },
     "metadata": {
      "needs_background": "light"
     },
     "output_type": "display_data"
    }
   ],
   "source": [
    "fig, ax = plt.subplots()\n",
    "fig.set_size_inches(18.5, 10.5)\n",
    "ax = sns.barplot(x='item_category_id', y='item_cnt_month', data=categories_agg)\n",
    "plt.xticks(rotation=90)\n",
    "plt.show()"
   ]
  },
  {
   "cell_type": "markdown",
   "metadata": {},
   "source": [
    "### As we see from the graph, the number of items sold varies from category to category. To account for this dependency, we will create a varaiable with average amount of items sold for each category id up to each month ('category_mean_past') "
   ]
  },
  {
   "cell_type": "code",
   "execution_count": 608,
   "metadata": {},
   "outputs": [],
   "source": [
    "shops_agg = data_agg.groupby(['shop_id'])[['item_cnt_month']].sum().reset_index()"
   ]
  },
  {
   "cell_type": "code",
   "execution_count": 609,
   "metadata": {},
   "outputs": [
    {
     "data": {
      "image/png": "[encoded data removed]",
      "text/plain": [
       "<Figure size 1332x756 with 1 Axes>"
      ]
     },
     "metadata": {
      "needs_background": "light"
     },
     "output_type": "display_data"
    }
   ],
   "source": [
    "fig, ax = plt.subplots()\n",
    "fig.set_size_inches(18.5, 10.5)\n",
    "ax = sns.barplot(x='shop_id', y='item_cnt_month', data=shops_agg)\n",
    "plt.xticks(rotation=90)\n",
    "plt.show()"
   ]
  },
  {
   "cell_type": "markdown",
   "metadata": {},
   "source": [
    "### As we see from the graph, the number of items sold varies from shop to shop. To account for this dependency, we will create a varaiable with average amount of items sold for each item id and shop up to each month ('shop_item_mean_past') "
   ]
  },
  {
   "cell_type": "code",
   "execution_count": null,
   "metadata": {},
   "outputs": [],
   "source": []
  },
  {
   "cell_type": "markdown",
   "metadata": {},
   "source": [
    "## Replace outliers with averages for each item-shop combination each month using z-statistics "
   ]
  },
  {
   "cell_type": "markdown",
   "metadata": {},
   "source": [
    "#### Group data by shop and item and then calculate std, mean and z-statistics for each item in each shop. Then if in particular month we sold number of items outside of 3 std from mean, let's call that row an outlier and replace that number of items sold with a mean. "
   ]
  },
  {
   "cell_type": "code",
   "execution_count": 515,
   "metadata": {},
   "outputs": [],
   "source": [
    "agg_stats = data_agg.groupby(['shop_id', 'item_id']).agg({'item_cnt_month': ['std', 'mean']}).reset_index()"
   ]
  },
  {
   "cell_type": "code",
   "execution_count": 516,
   "metadata": {},
   "outputs": [],
   "source": [
    "agg_stats = agg_stats.fillna(0)"
   ]
  },
  {
   "cell_type": "code",
   "execution_count": 517,
   "metadata": {},
   "outputs": [
    {
     "data": {
      "text/html": [
       "<div>\n",
       "<style scoped>\n",
       "    .dataframe tbody tr th:only-of-type {\n",
       "        vertical-align: middle;\n",
       "    }\n",
       "\n",
       "    .dataframe tbody tr th {\n",
       "        vertical-align: top;\n",
       "    }\n",
       "\n",
       "    .dataframe thead th {\n",
       "        text-align: right;\n",
       "    }\n",
       "</style>\n",
       "<table border=\"1\" class=\"dataframe\">\n",
       "  <thead>\n",
       "    <tr style=\"text-align: right;\">\n",
       "      <th></th>\n",
       "      <th>shop_id</th>\n",
       "      <th>item_id</th>\n",
       "      <th>item_cnt_month_std</th>\n",
       "      <th>item_cnt_month_mean</th>\n",
       "    </tr>\n",
       "  </thead>\n",
       "  <tbody>\n",
       "    <tr>\n",
       "      <th>0</th>\n",
       "      <td>0</td>\n",
       "      <td>30</td>\n",
       "      <td>0.000000</td>\n",
       "      <td>31.0</td>\n",
       "    </tr>\n",
       "    <tr>\n",
       "      <th>1</th>\n",
       "      <td>0</td>\n",
       "      <td>31</td>\n",
       "      <td>0.000000</td>\n",
       "      <td>11.0</td>\n",
       "    </tr>\n",
       "    <tr>\n",
       "      <th>2</th>\n",
       "      <td>0</td>\n",
       "      <td>32</td>\n",
       "      <td>2.828427</td>\n",
       "      <td>8.0</td>\n",
       "    </tr>\n",
       "    <tr>\n",
       "      <th>3</th>\n",
       "      <td>0</td>\n",
       "      <td>33</td>\n",
       "      <td>0.000000</td>\n",
       "      <td>3.0</td>\n",
       "    </tr>\n",
       "    <tr>\n",
       "      <th>4</th>\n",
       "      <td>0</td>\n",
       "      <td>35</td>\n",
       "      <td>9.192388</td>\n",
       "      <td>7.5</td>\n",
       "    </tr>\n",
       "  </tbody>\n",
       "</table>\n",
       "</div>"
      ],
      "text/plain": [
       "   shop_id  item_id  item_cnt_month_std  item_cnt_month_mean\n",
       "0        0       30            0.000000                 31.0\n",
       "1        0       31            0.000000                 11.0\n",
       "2        0       32            2.828427                  8.0\n",
       "3        0       33            0.000000                  3.0\n",
       "4        0       35            9.192388                  7.5"
      ]
     },
     "execution_count": 517,
     "metadata": {},
     "output_type": "execute_result"
    }
   ],
   "source": [
    "agg_stats.columns = agg_stats.columns.map(''.join)\n",
    "agg_stats = agg_stats.rename(columns={'item_cnt_monthstd': 'item_cnt_month_std', 'item_cnt_monthmean':'item_cnt_month_mean'})\n",
    "agg_stats.head()"
   ]
  },
  {
   "cell_type": "code",
   "execution_count": 518,
   "metadata": {},
   "outputs": [
    {
     "data": {
      "text/plain": [
       "745173"
      ]
     },
     "execution_count": 518,
     "metadata": {},
     "output_type": "execute_result"
    }
   ],
   "source": [
    "data_agg.shape[0]"
   ]
  },
  {
   "cell_type": "code",
   "execution_count": 519,
   "metadata": {},
   "outputs": [
    {
     "data": {
      "text/html": [
       "<div>\n",
       "<style scoped>\n",
       "    .dataframe tbody tr th:only-of-type {\n",
       "        vertical-align: middle;\n",
       "    }\n",
       "\n",
       "    .dataframe tbody tr th {\n",
       "        vertical-align: top;\n",
       "    }\n",
       "\n",
       "    .dataframe thead th {\n",
       "        text-align: right;\n",
       "    }\n",
       "</style>\n",
       "<table border=\"1\" class=\"dataframe\">\n",
       "  <thead>\n",
       "    <tr style=\"text-align: right;\">\n",
       "      <th></th>\n",
       "      <th>year</th>\n",
       "      <th>month</th>\n",
       "      <th>shop_id</th>\n",
       "      <th>item_category_id</th>\n",
       "      <th>item_id</th>\n",
       "      <th>item_price_avg</th>\n",
       "      <th>item_cnt_month</th>\n",
       "      <th>item_cnt_day_mean</th>\n",
       "      <th>item_cnt_month_std</th>\n",
       "      <th>item_cnt_month_mean</th>\n",
       "    </tr>\n",
       "  </thead>\n",
       "  <tbody>\n",
       "    <tr>\n",
       "      <th>0</th>\n",
       "      <td>2013</td>\n",
       "      <td>1</td>\n",
       "      <td>0</td>\n",
       "      <td>40</td>\n",
       "      <td>32</td>\n",
       "      <td>221.0</td>\n",
       "      <td>6.0</td>\n",
       "      <td>1.5</td>\n",
       "      <td>2.828427</td>\n",
       "      <td>8.0</td>\n",
       "    </tr>\n",
       "    <tr>\n",
       "      <th>1</th>\n",
       "      <td>2013</td>\n",
       "      <td>1</td>\n",
       "      <td>0</td>\n",
       "      <td>37</td>\n",
       "      <td>33</td>\n",
       "      <td>347.0</td>\n",
       "      <td>3.0</td>\n",
       "      <td>1.0</td>\n",
       "      <td>0.000000</td>\n",
       "      <td>3.0</td>\n",
       "    </tr>\n",
       "    <tr>\n",
       "      <th>2</th>\n",
       "      <td>2013</td>\n",
       "      <td>1</td>\n",
       "      <td>0</td>\n",
       "      <td>40</td>\n",
       "      <td>35</td>\n",
       "      <td>247.0</td>\n",
       "      <td>1.0</td>\n",
       "      <td>1.0</td>\n",
       "      <td>9.192388</td>\n",
       "      <td>7.5</td>\n",
       "    </tr>\n",
       "    <tr>\n",
       "      <th>3</th>\n",
       "      <td>2013</td>\n",
       "      <td>1</td>\n",
       "      <td>0</td>\n",
       "      <td>40</td>\n",
       "      <td>43</td>\n",
       "      <td>221.0</td>\n",
       "      <td>1.0</td>\n",
       "      <td>1.0</td>\n",
       "      <td>0.000000</td>\n",
       "      <td>1.0</td>\n",
       "    </tr>\n",
       "    <tr>\n",
       "      <th>4</th>\n",
       "      <td>2013</td>\n",
       "      <td>1</td>\n",
       "      <td>0</td>\n",
       "      <td>57</td>\n",
       "      <td>51</td>\n",
       "      <td>128.5</td>\n",
       "      <td>2.0</td>\n",
       "      <td>1.0</td>\n",
       "      <td>0.707107</td>\n",
       "      <td>2.5</td>\n",
       "    </tr>\n",
       "  </tbody>\n",
       "</table>\n",
       "</div>"
      ],
      "text/plain": [
       "   year  month  shop_id  item_category_id  item_id  item_price_avg  \\\n",
       "0  2013      1        0                40       32           221.0   \n",
       "1  2013      1        0                37       33           347.0   \n",
       "2  2013      1        0                40       35           247.0   \n",
       "3  2013      1        0                40       43           221.0   \n",
       "4  2013      1        0                57       51           128.5   \n",
       "\n",
       "   item_cnt_month  item_cnt_day_mean  item_cnt_month_std  item_cnt_month_mean  \n",
       "0             6.0                1.5            2.828427                  8.0  \n",
       "1             3.0                1.0            0.000000                  3.0  \n",
       "2             1.0                1.0            9.192388                  7.5  \n",
       "3             1.0                1.0            0.000000                  1.0  \n",
       "4             2.0                1.0            0.707107                  2.5  "
      ]
     },
     "execution_count": 519,
     "metadata": {},
     "output_type": "execute_result"
    }
   ],
   "source": [
    "data_agg_new = data_agg.merge(agg_stats, on=['shop_id', 'item_id'], how='left')\n",
    "data_agg_new.head()"
   ]
  },
  {
   "cell_type": "code",
   "execution_count": 520,
   "metadata": {},
   "outputs": [
    {
     "data": {
      "text/html": [
       "<div>\n",
       "<style scoped>\n",
       "    .dataframe tbody tr th:only-of-type {\n",
       "        vertical-align: middle;\n",
       "    }\n",
       "\n",
       "    .dataframe tbody tr th {\n",
       "        vertical-align: top;\n",
       "    }\n",
       "\n",
       "    .dataframe thead th {\n",
       "        text-align: right;\n",
       "    }\n",
       "</style>\n",
       "<table border=\"1\" class=\"dataframe\">\n",
       "  <thead>\n",
       "    <tr style=\"text-align: right;\">\n",
       "      <th></th>\n",
       "      <th>year</th>\n",
       "      <th>month</th>\n",
       "      <th>shop_id</th>\n",
       "      <th>item_category_id</th>\n",
       "      <th>item_id</th>\n",
       "      <th>item_price_avg</th>\n",
       "      <th>item_cnt_month</th>\n",
       "      <th>item_cnt_day_mean</th>\n",
       "      <th>item_cnt_month_std</th>\n",
       "      <th>item_cnt_month_mean</th>\n",
       "      <th>z_statistics</th>\n",
       "    </tr>\n",
       "  </thead>\n",
       "  <tbody>\n",
       "    <tr>\n",
       "      <th>0</th>\n",
       "      <td>2013</td>\n",
       "      <td>1</td>\n",
       "      <td>0</td>\n",
       "      <td>40</td>\n",
       "      <td>32</td>\n",
       "      <td>221.0</td>\n",
       "      <td>6.0</td>\n",
       "      <td>1.5</td>\n",
       "      <td>2.828427</td>\n",
       "      <td>8.0</td>\n",
       "      <td>0.707107</td>\n",
       "    </tr>\n",
       "    <tr>\n",
       "      <th>1</th>\n",
       "      <td>2013</td>\n",
       "      <td>1</td>\n",
       "      <td>0</td>\n",
       "      <td>37</td>\n",
       "      <td>33</td>\n",
       "      <td>347.0</td>\n",
       "      <td>3.0</td>\n",
       "      <td>1.0</td>\n",
       "      <td>0.000000</td>\n",
       "      <td>3.0</td>\n",
       "      <td>0.000000</td>\n",
       "    </tr>\n",
       "    <tr>\n",
       "      <th>2</th>\n",
       "      <td>2013</td>\n",
       "      <td>1</td>\n",
       "      <td>0</td>\n",
       "      <td>40</td>\n",
       "      <td>35</td>\n",
       "      <td>247.0</td>\n",
       "      <td>1.0</td>\n",
       "      <td>1.0</td>\n",
       "      <td>9.192388</td>\n",
       "      <td>7.5</td>\n",
       "      <td>0.707107</td>\n",
       "    </tr>\n",
       "    <tr>\n",
       "      <th>3</th>\n",
       "      <td>2013</td>\n",
       "      <td>1</td>\n",
       "      <td>0</td>\n",
       "      <td>40</td>\n",
       "      <td>43</td>\n",
       "      <td>221.0</td>\n",
       "      <td>1.0</td>\n",
       "      <td>1.0</td>\n",
       "      <td>0.000000</td>\n",
       "      <td>1.0</td>\n",
       "      <td>0.000000</td>\n",
       "    </tr>\n",
       "    <tr>\n",
       "      <th>4</th>\n",
       "      <td>2013</td>\n",
       "      <td>1</td>\n",
       "      <td>0</td>\n",
       "      <td>57</td>\n",
       "      <td>51</td>\n",
       "      <td>128.5</td>\n",
       "      <td>2.0</td>\n",
       "      <td>1.0</td>\n",
       "      <td>0.707107</td>\n",
       "      <td>2.5</td>\n",
       "      <td>0.707107</td>\n",
       "    </tr>\n",
       "  </tbody>\n",
       "</table>\n",
       "</div>"
      ],
      "text/plain": [
       "   year  month  shop_id  item_category_id  item_id  item_price_avg  \\\n",
       "0  2013      1        0                40       32           221.0   \n",
       "1  2013      1        0                37       33           347.0   \n",
       "2  2013      1        0                40       35           247.0   \n",
       "3  2013      1        0                40       43           221.0   \n",
       "4  2013      1        0                57       51           128.5   \n",
       "\n",
       "   item_cnt_month  item_cnt_day_mean  item_cnt_month_std  item_cnt_month_mean  \\\n",
       "0             6.0                1.5            2.828427                  8.0   \n",
       "1             3.0                1.0            0.000000                  3.0   \n",
       "2             1.0                1.0            9.192388                  7.5   \n",
       "3             1.0                1.0            0.000000                  1.0   \n",
       "4             2.0                1.0            0.707107                  2.5   \n",
       "\n",
       "   z_statistics  \n",
       "0      0.707107  \n",
       "1      0.000000  \n",
       "2      0.707107  \n",
       "3      0.000000  \n",
       "4      0.707107  "
      ]
     },
     "execution_count": 520,
     "metadata": {},
     "output_type": "execute_result"
    }
   ],
   "source": [
    "data_agg_new['z_statistics'] = data_agg_new['item_cnt_month'] - data_agg_new['item_cnt_month_mean']\n",
    "data_agg_new.loc[data_agg_new['item_cnt_month_std'] != 0, 'z_statistics'] = data_agg_new.loc[data_agg_new['item_cnt_month_std'] != 0, 'z_statistics'] / data_agg_new.loc[data_agg_new['item_cnt_month_std'] != 0, 'item_cnt_month_std']  \n",
    "data_agg_new.loc[:,'z_statistics'] = data_agg_new['z_statistics'].abs()\n",
    "data_agg_new.head()"
   ]
  },
  {
   "cell_type": "code",
   "execution_count": 521,
   "metadata": {},
   "outputs": [
    {
     "name": "stdout",
     "output_type": "stream",
     "text": [
      "Share of outliers is  0.0036635787931124718\n"
     ]
    }
   ],
   "source": [
    "z_threshold = 3\n",
    "print('Share of outliers is ', data_agg_new[data_agg_new['z_statistics'] > z_threshold].shape[0]/data_agg_new.shape[0])\n",
    "data_agg_new.loc[data_agg_new['z_statistics'] > z_threshold, 'item_cnt_month'] = data_agg_new.loc[ data_agg_new['z_statistics'] > z_threshold, 'item_cnt_month_mean']"
   ]
  },
  {
   "cell_type": "markdown",
   "metadata": {},
   "source": [
    "### As we can see there are not many, bust still around 0.4% of outliers. They could be due to human error during input or some anomalies. It is best to handle outliers to have a more stable model, so we include outlier replacement with the averages in the code of the web app. "
   ]
  },
  {
   "cell_type": "markdown",
   "metadata": {},
   "source": [
    "## 2. Feature engineering  and train, test split"
   ]
  },
  {
   "cell_type": "markdown",
   "metadata": {},
   "source": [
    "### Steps below will take significant amount of time"
   ]
  },
  {
   "cell_type": "code",
   "execution_count": 9,
   "metadata": {},
   "outputs": [],
   "source": [
    "X_train, Y_train, X_test, Y_test, X_predict, extended_test_set, predict_extended = return_processed_data(data)"
   ]
  },
  {
   "cell_type": "markdown",
   "metadata": {},
   "source": [
    "### X_predict - the dataset with transactions for the last available month, hence, for it we don't have number of items sold the next month, which is our target value, so this is a pure prediction we cannot test against, and which is the ouptupt of the web app. To test the model we have the X_test data set along with Y_test"
   ]
  },
  {
   "cell_type": "code",
   "execution_count": 523,
   "metadata": {},
   "outputs": [
    {
     "data": {
      "text/html": [
       "<div>\n",
       "<style scoped>\n",
       "    .dataframe tbody tr th:only-of-type {\n",
       "        vertical-align: middle;\n",
       "    }\n",
       "\n",
       "    .dataframe tbody tr th {\n",
       "        vertical-align: top;\n",
       "    }\n",
       "\n",
       "    .dataframe thead th {\n",
       "        text-align: right;\n",
       "    }\n",
       "</style>\n",
       "<table border=\"1\" class=\"dataframe\">\n",
       "  <thead>\n",
       "    <tr style=\"text-align: right;\">\n",
       "      <th></th>\n",
       "      <th>item_cnt_month</th>\n",
       "      <th>item_trend</th>\n",
       "      <th>item_cnt_roll_mean</th>\n",
       "      <th>item_cnt_day_mean</th>\n",
       "      <th>month_mean_past</th>\n",
       "      <th>item_mean_past</th>\n",
       "      <th>category_mean_past</th>\n",
       "      <th>shop_item_mean_past</th>\n",
       "      <th>year_mean_past</th>\n",
       "    </tr>\n",
       "  </thead>\n",
       "  <tbody>\n",
       "    <tr>\n",
       "      <th>count</th>\n",
       "      <td>1.178856e+07</td>\n",
       "      <td>1.178856e+07</td>\n",
       "      <td>1.178856e+07</td>\n",
       "      <td>1.178856e+07</td>\n",
       "      <td>1.178856e+07</td>\n",
       "      <td>1.178856e+07</td>\n",
       "      <td>1.178856e+07</td>\n",
       "      <td>1.178856e+07</td>\n",
       "      <td>1.178856e+07</td>\n",
       "    </tr>\n",
       "    <tr>\n",
       "      <th>mean</th>\n",
       "      <td>9.319132e-02</td>\n",
       "      <td>-8.253156e-04</td>\n",
       "      <td>9.445558e-02</td>\n",
       "      <td>4.505407e-02</td>\n",
       "      <td>7.786668e-02</td>\n",
       "      <td>1.087568e-01</td>\n",
       "      <td>4.143588e-07</td>\n",
       "      <td>7.357044e-02</td>\n",
       "      <td>9.132444e-02</td>\n",
       "    </tr>\n",
       "    <tr>\n",
       "      <th>std</th>\n",
       "      <td>1.653685e+00</td>\n",
       "      <td>1.180204e+00</td>\n",
       "      <td>1.430291e+00</td>\n",
       "      <td>3.194497e-01</td>\n",
       "      <td>2.824244e-02</td>\n",
       "      <td>3.740435e-01</td>\n",
       "      <td>3.228770e-07</td>\n",
       "      <td>6.308230e-01</td>\n",
       "      <td>1.380561e-02</td>\n",
       "    </tr>\n",
       "    <tr>\n",
       "      <th>min</th>\n",
       "      <td>0.000000e+00</td>\n",
       "      <td>-6.380000e+02</td>\n",
       "      <td>0.000000e+00</td>\n",
       "      <td>0.000000e+00</td>\n",
       "      <td>0.000000e+00</td>\n",
       "      <td>0.000000e+00</td>\n",
       "      <td>1.549033e-07</td>\n",
       "      <td>0.000000e+00</td>\n",
       "      <td>0.000000e+00</td>\n",
       "    </tr>\n",
       "    <tr>\n",
       "      <th>25%</th>\n",
       "      <td>0.000000e+00</td>\n",
       "      <td>0.000000e+00</td>\n",
       "      <td>0.000000e+00</td>\n",
       "      <td>0.000000e+00</td>\n",
       "      <td>7.096438e-02</td>\n",
       "      <td>1.037344e-03</td>\n",
       "      <td>2.007198e-07</td>\n",
       "      <td>0.000000e+00</td>\n",
       "      <td>8.222129e-02</td>\n",
       "    </tr>\n",
       "    <tr>\n",
       "      <th>50%</th>\n",
       "      <td>0.000000e+00</td>\n",
       "      <td>0.000000e+00</td>\n",
       "      <td>0.000000e+00</td>\n",
       "      <td>0.000000e+00</td>\n",
       "      <td>7.811375e-02</td>\n",
       "      <td>1.670146e-02</td>\n",
       "      <td>2.850221e-07</td>\n",
       "      <td>0.000000e+00</td>\n",
       "      <td>8.924872e-02</td>\n",
       "    </tr>\n",
       "    <tr>\n",
       "      <th>75%</th>\n",
       "      <td>0.000000e+00</td>\n",
       "      <td>0.000000e+00</td>\n",
       "      <td>0.000000e+00</td>\n",
       "      <td>0.000000e+00</td>\n",
       "      <td>9.237975e-02</td>\n",
       "      <td>7.500000e-02</td>\n",
       "      <td>4.914173e-07</td>\n",
       "      <td>0.000000e+00</td>\n",
       "      <td>1.010563e-01</td>\n",
       "    </tr>\n",
       "    <tr>\n",
       "      <th>max</th>\n",
       "      <td>1.066000e+03</td>\n",
       "      <td>9.030000e+02</td>\n",
       "      <td>8.750000e+02</td>\n",
       "      <td>4.515000e+02</td>\n",
       "      <td>6.500000e+00</td>\n",
       "      <td>3.900000e+01</td>\n",
       "      <td>1.781386e-06</td>\n",
       "      <td>1.689746e+02</td>\n",
       "      <td>1.199167e-01</td>\n",
       "    </tr>\n",
       "  </tbody>\n",
       "</table>\n",
       "</div>"
      ],
      "text/plain": [
       "       item_cnt_month    item_trend  item_cnt_roll_mean  item_cnt_day_mean  \\\n",
       "count    1.178856e+07  1.178856e+07        1.178856e+07       1.178856e+07   \n",
       "mean     9.319132e-02 -8.253156e-04        9.445558e-02       4.505407e-02   \n",
       "std      1.653685e+00  1.180204e+00        1.430291e+00       3.194497e-01   \n",
       "min      0.000000e+00 -6.380000e+02        0.000000e+00       0.000000e+00   \n",
       "25%      0.000000e+00  0.000000e+00        0.000000e+00       0.000000e+00   \n",
       "50%      0.000000e+00  0.000000e+00        0.000000e+00       0.000000e+00   \n",
       "75%      0.000000e+00  0.000000e+00        0.000000e+00       0.000000e+00   \n",
       "max      1.066000e+03  9.030000e+02        8.750000e+02       4.515000e+02   \n",
       "\n",
       "       month_mean_past  item_mean_past  category_mean_past  \\\n",
       "count     1.178856e+07    1.178856e+07        1.178856e+07   \n",
       "mean      7.786668e-02    1.087568e-01        4.143588e-07   \n",
       "std       2.824244e-02    3.740435e-01        3.228770e-07   \n",
       "min       0.000000e+00    0.000000e+00        1.549033e-07   \n",
       "25%       7.096438e-02    1.037344e-03        2.007198e-07   \n",
       "50%       7.811375e-02    1.670146e-02        2.850221e-07   \n",
       "75%       9.237975e-02    7.500000e-02        4.914173e-07   \n",
       "max       6.500000e+00    3.900000e+01        1.781386e-06   \n",
       "\n",
       "       shop_item_mean_past  year_mean_past  \n",
       "count         1.178856e+07    1.178856e+07  \n",
       "mean          7.357044e-02    9.132444e-02  \n",
       "std           6.308230e-01    1.380561e-02  \n",
       "min           0.000000e+00    0.000000e+00  \n",
       "25%           0.000000e+00    8.222129e-02  \n",
       "50%           0.000000e+00    8.924872e-02  \n",
       "75%           0.000000e+00    1.010563e-01  \n",
       "max           1.689746e+02    1.199167e-01  "
      ]
     },
     "execution_count": 523,
     "metadata": {},
     "output_type": "execute_result"
    }
   ],
   "source": [
    "X_train.describe()"
   ]
  },
  {
   "cell_type": "code",
   "execution_count": 524,
   "metadata": {},
   "outputs": [
    {
     "data": {
      "text/plain": [
       "item_cnt_month         False\n",
       "item_trend             False\n",
       "item_cnt_roll_mean     False\n",
       "item_cnt_day_mean      False\n",
       "month_mean_past        False\n",
       "item_mean_past         False\n",
       "category_mean_past     False\n",
       "shop_item_mean_past    False\n",
       "year_mean_past         False\n",
       "dtype: bool"
      ]
     },
     "execution_count": 524,
     "metadata": {},
     "output_type": "execute_result"
    }
   ],
   "source": [
    "X_train.isna().any()"
   ]
  },
  {
   "cell_type": "code",
   "execution_count": 525,
   "metadata": {},
   "outputs": [
    {
     "data": {
      "text/plain": [
       "count    1.178856e+07\n",
       "mean     9.412125e-02\n",
       "std      1.740482e+00\n",
       "min      0.000000e+00\n",
       "25%      0.000000e+00\n",
       "50%      0.000000e+00\n",
       "75%      0.000000e+00\n",
       "max      1.066000e+03\n",
       "Name: itm_cnt_nxt_mnth, dtype: float64"
      ]
     },
     "execution_count": 525,
     "metadata": {},
     "output_type": "execute_result"
    }
   ],
   "source": [
    "Y_train.describe()"
   ]
  },
  {
   "cell_type": "code",
   "execution_count": 526,
   "metadata": {},
   "outputs": [
    {
     "data": {
      "text/html": [
       "<div>\n",
       "<style scoped>\n",
       "    .dataframe tbody tr th:only-of-type {\n",
       "        vertical-align: middle;\n",
       "    }\n",
       "\n",
       "    .dataframe tbody tr th {\n",
       "        vertical-align: top;\n",
       "    }\n",
       "\n",
       "    .dataframe thead th {\n",
       "        text-align: right;\n",
       "    }\n",
       "</style>\n",
       "<table border=\"1\" class=\"dataframe\">\n",
       "  <thead>\n",
       "    <tr style=\"text-align: right;\">\n",
       "      <th></th>\n",
       "      <th>item_cnt_month</th>\n",
       "      <th>item_trend</th>\n",
       "      <th>item_cnt_roll_mean</th>\n",
       "      <th>item_cnt_day_mean</th>\n",
       "      <th>month_mean_past</th>\n",
       "      <th>item_mean_past</th>\n",
       "      <th>category_mean_past</th>\n",
       "      <th>shop_item_mean_past</th>\n",
       "      <th>year_mean_past</th>\n",
       "    </tr>\n",
       "  </thead>\n",
       "  <tbody>\n",
       "    <tr>\n",
       "      <th>count</th>\n",
       "      <td>5.613600e+06</td>\n",
       "      <td>5.613600e+06</td>\n",
       "      <td>5.613600e+06</td>\n",
       "      <td>5.613600e+06</td>\n",
       "      <td>5.613600e+06</td>\n",
       "      <td>5.613600e+06</td>\n",
       "      <td>5.613600e+06</td>\n",
       "      <td>5.613600e+06</td>\n",
       "      <td>5.613600e+06</td>\n",
       "    </tr>\n",
       "    <tr>\n",
       "      <th>mean</th>\n",
       "      <td>7.046308e-02</td>\n",
       "      <td>-7.158492e-03</td>\n",
       "      <td>7.413031e-02</td>\n",
       "      <td>3.374267e-02</td>\n",
       "      <td>8.040261e-02</td>\n",
       "      <td>7.990674e-02</td>\n",
       "      <td>9.685174e-02</td>\n",
       "      <td>1.628291e-01</td>\n",
       "      <td>6.787633e-02</td>\n",
       "    </tr>\n",
       "    <tr>\n",
       "      <th>std</th>\n",
       "      <td>1.769080e+00</td>\n",
       "      <td>1.601928e+00</td>\n",
       "      <td>1.414983e+00</td>\n",
       "      <td>5.201101e-01</td>\n",
       "      <td>2.260549e-02</td>\n",
       "      <td>1.024691e+00</td>\n",
       "      <td>6.864007e-01</td>\n",
       "      <td>1.622171e+00</td>\n",
       "      <td>1.071167e-02</td>\n",
       "    </tr>\n",
       "    <tr>\n",
       "      <th>min</th>\n",
       "      <td>0.000000e+00</td>\n",
       "      <td>-7.216667e+02</td>\n",
       "      <td>0.000000e+00</td>\n",
       "      <td>0.000000e+00</td>\n",
       "      <td>0.000000e+00</td>\n",
       "      <td>0.000000e+00</td>\n",
       "      <td>1.090449e-07</td>\n",
       "      <td>0.000000e+00</td>\n",
       "      <td>0.000000e+00</td>\n",
       "    </tr>\n",
       "    <tr>\n",
       "      <th>25%</th>\n",
       "      <td>0.000000e+00</td>\n",
       "      <td>0.000000e+00</td>\n",
       "      <td>0.000000e+00</td>\n",
       "      <td>0.000000e+00</td>\n",
       "      <td>7.770122e-02</td>\n",
       "      <td>0.000000e+00</td>\n",
       "      <td>1.180800e-07</td>\n",
       "      <td>0.000000e+00</td>\n",
       "      <td>6.434189e-02</td>\n",
       "    </tr>\n",
       "    <tr>\n",
       "      <th>50%</th>\n",
       "      <td>0.000000e+00</td>\n",
       "      <td>0.000000e+00</td>\n",
       "      <td>0.000000e+00</td>\n",
       "      <td>0.000000e+00</td>\n",
       "      <td>8.536663e-02</td>\n",
       "      <td>1.227831e-02</td>\n",
       "      <td>1.287476e-07</td>\n",
       "      <td>0.000000e+00</td>\n",
       "      <td>6.808089e-02</td>\n",
       "    </tr>\n",
       "    <tr>\n",
       "      <th>75%</th>\n",
       "      <td>0.000000e+00</td>\n",
       "      <td>0.000000e+00</td>\n",
       "      <td>0.000000e+00</td>\n",
       "      <td>0.000000e+00</td>\n",
       "      <td>9.347176e-02</td>\n",
       "      <td>6.153846e-02</td>\n",
       "      <td>1.415341e-07</td>\n",
       "      <td>7.407407e-02</td>\n",
       "      <td>7.110789e-02</td>\n",
       "    </tr>\n",
       "    <tr>\n",
       "      <th>max</th>\n",
       "      <td>1.644000e+03</td>\n",
       "      <td>1.632667e+03</td>\n",
       "      <td>7.216667e+02</td>\n",
       "      <td>1.000000e+03</td>\n",
       "      <td>1.438532e-01</td>\n",
       "      <td>9.576233e+01</td>\n",
       "      <td>7.964065e+01</td>\n",
       "      <td>4.560000e+02</td>\n",
       "      <td>8.832230e-02</td>\n",
       "    </tr>\n",
       "  </tbody>\n",
       "</table>\n",
       "</div>"
      ],
      "text/plain": [
       "       item_cnt_month    item_trend  item_cnt_roll_mean  item_cnt_day_mean  \\\n",
       "count    5.613600e+06  5.613600e+06        5.613600e+06       5.613600e+06   \n",
       "mean     7.046308e-02 -7.158492e-03        7.413031e-02       3.374267e-02   \n",
       "std      1.769080e+00  1.601928e+00        1.414983e+00       5.201101e-01   \n",
       "min      0.000000e+00 -7.216667e+02        0.000000e+00       0.000000e+00   \n",
       "25%      0.000000e+00  0.000000e+00        0.000000e+00       0.000000e+00   \n",
       "50%      0.000000e+00  0.000000e+00        0.000000e+00       0.000000e+00   \n",
       "75%      0.000000e+00  0.000000e+00        0.000000e+00       0.000000e+00   \n",
       "max      1.644000e+03  1.632667e+03        7.216667e+02       1.000000e+03   \n",
       "\n",
       "       month_mean_past  item_mean_past  category_mean_past  \\\n",
       "count     5.613600e+06    5.613600e+06        5.613600e+06   \n",
       "mean      8.040261e-02    7.990674e-02        9.685174e-02   \n",
       "std       2.260549e-02    1.024691e+00        6.864007e-01   \n",
       "min       0.000000e+00    0.000000e+00        1.090449e-07   \n",
       "25%       7.770122e-02    0.000000e+00        1.180800e-07   \n",
       "50%       8.536663e-02    1.227831e-02        1.287476e-07   \n",
       "75%       9.347176e-02    6.153846e-02        1.415341e-07   \n",
       "max       1.438532e-01    9.576233e+01        7.964065e+01   \n",
       "\n",
       "       shop_item_mean_past  year_mean_past  \n",
       "count         5.613600e+06    5.613600e+06  \n",
       "mean          1.628291e-01    6.787633e-02  \n",
       "std           1.622171e+00    1.071167e-02  \n",
       "min           0.000000e+00    0.000000e+00  \n",
       "25%           0.000000e+00    6.434189e-02  \n",
       "50%           0.000000e+00    6.808089e-02  \n",
       "75%           7.407407e-02    7.110789e-02  \n",
       "max           4.560000e+02    8.832230e-02  "
      ]
     },
     "execution_count": 526,
     "metadata": {},
     "output_type": "execute_result"
    }
   ],
   "source": [
    "X_test.describe()"
   ]
  },
  {
   "cell_type": "code",
   "execution_count": 527,
   "metadata": {},
   "outputs": [
    {
     "data": {
      "text/plain": [
       "item_cnt_month         False\n",
       "item_trend             False\n",
       "item_cnt_roll_mean     False\n",
       "item_cnt_day_mean      False\n",
       "month_mean_past        False\n",
       "item_mean_past         False\n",
       "category_mean_past     False\n",
       "shop_item_mean_past    False\n",
       "year_mean_past         False\n",
       "dtype: bool"
      ]
     },
     "execution_count": 527,
     "metadata": {},
     "output_type": "execute_result"
    }
   ],
   "source": [
    "X_test.isna().any()"
   ]
  },
  {
   "cell_type": "code",
   "execution_count": 528,
   "metadata": {},
   "outputs": [
    {
     "data": {
      "text/html": [
       "<div>\n",
       "<style scoped>\n",
       "    .dataframe tbody tr th:only-of-type {\n",
       "        vertical-align: middle;\n",
       "    }\n",
       "\n",
       "    .dataframe tbody tr th {\n",
       "        vertical-align: top;\n",
       "    }\n",
       "\n",
       "    .dataframe thead th {\n",
       "        text-align: right;\n",
       "    }\n",
       "</style>\n",
       "<table border=\"1\" class=\"dataframe\">\n",
       "  <thead>\n",
       "    <tr style=\"text-align: right;\">\n",
       "      <th></th>\n",
       "      <th>item_cnt_month</th>\n",
       "      <th>item_trend</th>\n",
       "      <th>item_cnt_roll_mean</th>\n",
       "      <th>item_cnt_day_mean</th>\n",
       "      <th>month_mean_past</th>\n",
       "      <th>item_mean_past</th>\n",
       "      <th>category_mean_past</th>\n",
       "      <th>shop_item_mean_past</th>\n",
       "      <th>year_mean_past</th>\n",
       "    </tr>\n",
       "  </thead>\n",
       "  <tbody>\n",
       "    <tr>\n",
       "      <th>12911280</th>\n",
       "      <td>0.0</td>\n",
       "      <td>0.0</td>\n",
       "      <td>0.0</td>\n",
       "      <td>0.0</td>\n",
       "      <td>0.090895</td>\n",
       "      <td>0.123967</td>\n",
       "      <td>1.549033e-07</td>\n",
       "      <td>0.0</td>\n",
       "      <td>0.084213</td>\n",
       "    </tr>\n",
       "    <tr>\n",
       "      <th>12911281</th>\n",
       "      <td>0.0</td>\n",
       "      <td>0.0</td>\n",
       "      <td>0.0</td>\n",
       "      <td>0.0</td>\n",
       "      <td>0.090895</td>\n",
       "      <td>0.122951</td>\n",
       "      <td>1.549033e-07</td>\n",
       "      <td>0.0</td>\n",
       "      <td>0.084213</td>\n",
       "    </tr>\n",
       "    <tr>\n",
       "      <th>12911282</th>\n",
       "      <td>0.0</td>\n",
       "      <td>0.0</td>\n",
       "      <td>0.0</td>\n",
       "      <td>0.0</td>\n",
       "      <td>0.090895</td>\n",
       "      <td>0.121951</td>\n",
       "      <td>1.549033e-07</td>\n",
       "      <td>0.0</td>\n",
       "      <td>0.084213</td>\n",
       "    </tr>\n",
       "    <tr>\n",
       "      <th>12911283</th>\n",
       "      <td>0.0</td>\n",
       "      <td>0.0</td>\n",
       "      <td>0.0</td>\n",
       "      <td>0.0</td>\n",
       "      <td>0.090895</td>\n",
       "      <td>0.120968</td>\n",
       "      <td>1.549033e-07</td>\n",
       "      <td>0.0</td>\n",
       "      <td>0.084213</td>\n",
       "    </tr>\n",
       "    <tr>\n",
       "      <th>12911284</th>\n",
       "      <td>0.0</td>\n",
       "      <td>0.0</td>\n",
       "      <td>0.0</td>\n",
       "      <td>0.0</td>\n",
       "      <td>0.090895</td>\n",
       "      <td>0.120000</td>\n",
       "      <td>1.549032e-07</td>\n",
       "      <td>0.0</td>\n",
       "      <td>0.084213</td>\n",
       "    </tr>\n",
       "  </tbody>\n",
       "</table>\n",
       "</div>"
      ],
      "text/plain": [
       "          item_cnt_month  item_trend  item_cnt_roll_mean  item_cnt_day_mean  \\\n",
       "12911280             0.0         0.0                 0.0                0.0   \n",
       "12911281             0.0         0.0                 0.0                0.0   \n",
       "12911282             0.0         0.0                 0.0                0.0   \n",
       "12911283             0.0         0.0                 0.0                0.0   \n",
       "12911284             0.0         0.0                 0.0                0.0   \n",
       "\n",
       "          month_mean_past  item_mean_past  category_mean_past  \\\n",
       "12911280         0.090895        0.123967        1.549033e-07   \n",
       "12911281         0.090895        0.122951        1.549033e-07   \n",
       "12911282         0.090895        0.121951        1.549033e-07   \n",
       "12911283         0.090895        0.120968        1.549033e-07   \n",
       "12911284         0.090895        0.120000        1.549032e-07   \n",
       "\n",
       "          shop_item_mean_past  year_mean_past  \n",
       "12911280                  0.0        0.084213  \n",
       "12911281                  0.0        0.084213  \n",
       "12911282                  0.0        0.084213  \n",
       "12911283                  0.0        0.084213  \n",
       "12911284                  0.0        0.084213  "
      ]
     },
     "execution_count": 528,
     "metadata": {},
     "output_type": "execute_result"
    }
   ],
   "source": [
    "X_test.head()"
   ]
  },
  {
   "cell_type": "code",
   "execution_count": 529,
   "metadata": {},
   "outputs": [
    {
     "data": {
      "text/plain": [
       "count    5.613600e+06\n",
       "mean     6.343915e-02\n",
       "std      1.615745e+00\n",
       "min      0.000000e+00\n",
       "25%      0.000000e+00\n",
       "50%      0.000000e+00\n",
       "75%      0.000000e+00\n",
       "max      1.644000e+03\n",
       "Name: itm_cnt_nxt_mnth, dtype: float64"
      ]
     },
     "execution_count": 529,
     "metadata": {},
     "output_type": "execute_result"
    }
   ],
   "source": [
    "Y_test.describe()"
   ]
  },
  {
   "cell_type": "code",
   "execution_count": 530,
   "metadata": {},
   "outputs": [
    {
     "data": {
      "text/html": [
       "<div>\n",
       "<style scoped>\n",
       "    .dataframe tbody tr th:only-of-type {\n",
       "        vertical-align: middle;\n",
       "    }\n",
       "\n",
       "    .dataframe tbody tr th {\n",
       "        vertical-align: top;\n",
       "    }\n",
       "\n",
       "    .dataframe thead th {\n",
       "        text-align: right;\n",
       "    }\n",
       "</style>\n",
       "<table border=\"1\" class=\"dataframe\">\n",
       "  <thead>\n",
       "    <tr style=\"text-align: right;\">\n",
       "      <th></th>\n",
       "      <th>item_cnt_month</th>\n",
       "      <th>item_trend</th>\n",
       "      <th>item_cnt_roll_mean</th>\n",
       "      <th>item_cnt_day_mean</th>\n",
       "      <th>month_mean_past</th>\n",
       "      <th>item_mean_past</th>\n",
       "      <th>category_mean_past</th>\n",
       "      <th>shop_item_mean_past</th>\n",
       "      <th>year_mean_past</th>\n",
       "    </tr>\n",
       "  </thead>\n",
       "  <tbody>\n",
       "    <tr>\n",
       "      <th>count</th>\n",
       "      <td>561360.000000</td>\n",
       "      <td>561360.000000</td>\n",
       "      <td>561360.000000</td>\n",
       "      <td>561360.000000</td>\n",
       "      <td>561360.000000</td>\n",
       "      <td>561360.000000</td>\n",
       "      <td>561360.000000</td>\n",
       "      <td>561360.000000</td>\n",
       "      <td>561360.000000</td>\n",
       "    </tr>\n",
       "    <tr>\n",
       "      <th>mean</th>\n",
       "      <td>0.063418</td>\n",
       "      <td>0.009169</td>\n",
       "      <td>0.057961</td>\n",
       "      <td>0.032119</td>\n",
       "      <td>0.127355</td>\n",
       "      <td>0.078882</td>\n",
       "      <td>2.010103</td>\n",
       "      <td>0.115637</td>\n",
       "      <td>0.062835</td>\n",
       "    </tr>\n",
       "    <tr>\n",
       "      <th>std</th>\n",
       "      <td>1.365030</td>\n",
       "      <td>1.383292</td>\n",
       "      <td>1.260307</td>\n",
       "      <td>0.729039</td>\n",
       "      <td>0.006232</td>\n",
       "      <td>0.239461</td>\n",
       "      <td>4.404142</td>\n",
       "      <td>0.761894</td>\n",
       "      <td>0.000348</td>\n",
       "    </tr>\n",
       "    <tr>\n",
       "      <th>min</th>\n",
       "      <td>0.000000</td>\n",
       "      <td>-558.333333</td>\n",
       "      <td>0.000000</td>\n",
       "      <td>0.000000</td>\n",
       "      <td>0.119186</td>\n",
       "      <td>0.000000</td>\n",
       "      <td>1.000000</td>\n",
       "      <td>0.000000</td>\n",
       "      <td>0.062298</td>\n",
       "    </tr>\n",
       "    <tr>\n",
       "      <th>25%</th>\n",
       "      <td>0.000000</td>\n",
       "      <td>0.000000</td>\n",
       "      <td>0.000000</td>\n",
       "      <td>0.000000</td>\n",
       "      <td>0.121788</td>\n",
       "      <td>0.000000</td>\n",
       "      <td>1.387537</td>\n",
       "      <td>0.000000</td>\n",
       "      <td>0.062600</td>\n",
       "    </tr>\n",
       "    <tr>\n",
       "      <th>50%</th>\n",
       "      <td>0.000000</td>\n",
       "      <td>0.000000</td>\n",
       "      <td>0.000000</td>\n",
       "      <td>0.000000</td>\n",
       "      <td>0.125685</td>\n",
       "      <td>0.017032</td>\n",
       "      <td>1.713442</td>\n",
       "      <td>0.000000</td>\n",
       "      <td>0.062752</td>\n",
       "    </tr>\n",
       "    <tr>\n",
       "      <th>75%</th>\n",
       "      <td>0.000000</td>\n",
       "      <td>0.000000</td>\n",
       "      <td>0.000000</td>\n",
       "      <td>0.000000</td>\n",
       "      <td>0.132175</td>\n",
       "      <td>0.068553</td>\n",
       "      <td>1.816013</td>\n",
       "      <td>0.058824</td>\n",
       "      <td>0.062960</td>\n",
       "    </tr>\n",
       "    <tr>\n",
       "      <th>max</th>\n",
       "      <td>500.000000</td>\n",
       "      <td>500.000000</td>\n",
       "      <td>554.333333</td>\n",
       "      <td>500.000000</td>\n",
       "      <td>0.143237</td>\n",
       "      <td>29.000000</td>\n",
       "      <td>149.228660</td>\n",
       "      <td>92.176471</td>\n",
       "      <td>0.063667</td>\n",
       "    </tr>\n",
       "  </tbody>\n",
       "</table>\n",
       "</div>"
      ],
      "text/plain": [
       "       item_cnt_month     item_trend  item_cnt_roll_mean  item_cnt_day_mean  \\\n",
       "count   561360.000000  561360.000000       561360.000000      561360.000000   \n",
       "mean         0.063418       0.009169            0.057961           0.032119   \n",
       "std          1.365030       1.383292            1.260307           0.729039   \n",
       "min          0.000000    -558.333333            0.000000           0.000000   \n",
       "25%          0.000000       0.000000            0.000000           0.000000   \n",
       "50%          0.000000       0.000000            0.000000           0.000000   \n",
       "75%          0.000000       0.000000            0.000000           0.000000   \n",
       "max        500.000000     500.000000          554.333333         500.000000   \n",
       "\n",
       "       month_mean_past  item_mean_past  category_mean_past  \\\n",
       "count    561360.000000   561360.000000       561360.000000   \n",
       "mean          0.127355        0.078882            2.010103   \n",
       "std           0.006232        0.239461            4.404142   \n",
       "min           0.119186        0.000000            1.000000   \n",
       "25%           0.121788        0.000000            1.387537   \n",
       "50%           0.125685        0.017032            1.713442   \n",
       "75%           0.132175        0.068553            1.816013   \n",
       "max           0.143237       29.000000          149.228660   \n",
       "\n",
       "       shop_item_mean_past  year_mean_past  \n",
       "count        561360.000000   561360.000000  \n",
       "mean              0.115637        0.062835  \n",
       "std               0.761894        0.000348  \n",
       "min               0.000000        0.062298  \n",
       "25%               0.000000        0.062600  \n",
       "50%               0.000000        0.062752  \n",
       "75%               0.058824        0.062960  \n",
       "max              92.176471        0.063667  "
      ]
     },
     "execution_count": 530,
     "metadata": {},
     "output_type": "execute_result"
    }
   ],
   "source": [
    "X_predict.describe()"
   ]
  },
  {
   "cell_type": "code",
   "execution_count": 531,
   "metadata": {},
   "outputs": [
    {
     "data": {
      "text/html": [
       "<div>\n",
       "<style scoped>\n",
       "    .dataframe tbody tr th:only-of-type {\n",
       "        vertical-align: middle;\n",
       "    }\n",
       "\n",
       "    .dataframe tbody tr th {\n",
       "        vertical-align: top;\n",
       "    }\n",
       "\n",
       "    .dataframe thead th {\n",
       "        text-align: right;\n",
       "    }\n",
       "</style>\n",
       "<table border=\"1\" class=\"dataframe\">\n",
       "  <thead>\n",
       "    <tr style=\"text-align: right;\">\n",
       "      <th></th>\n",
       "      <th>item_cnt_month</th>\n",
       "      <th>item_trend</th>\n",
       "      <th>item_cnt_roll_mean</th>\n",
       "      <th>item_cnt_day_mean</th>\n",
       "      <th>month_mean_past</th>\n",
       "      <th>item_mean_past</th>\n",
       "      <th>category_mean_past</th>\n",
       "      <th>shop_item_mean_past</th>\n",
       "      <th>year_mean_past</th>\n",
       "    </tr>\n",
       "  </thead>\n",
       "  <tbody>\n",
       "    <tr>\n",
       "      <th>18524880</th>\n",
       "      <td>0.0</td>\n",
       "      <td>0.0</td>\n",
       "      <td>0.0</td>\n",
       "      <td>0.0</td>\n",
       "      <td>0.143237</td>\n",
       "      <td>0.001513</td>\n",
       "      <td>3.100623</td>\n",
       "      <td>0.000000</td>\n",
       "      <td>0.063458</td>\n",
       "    </tr>\n",
       "    <tr>\n",
       "      <th>18524881</th>\n",
       "      <td>0.0</td>\n",
       "      <td>0.0</td>\n",
       "      <td>0.0</td>\n",
       "      <td>0.0</td>\n",
       "      <td>0.143236</td>\n",
       "      <td>0.001511</td>\n",
       "      <td>3.100472</td>\n",
       "      <td>0.000000</td>\n",
       "      <td>0.063458</td>\n",
       "    </tr>\n",
       "    <tr>\n",
       "      <th>18524882</th>\n",
       "      <td>0.0</td>\n",
       "      <td>0.0</td>\n",
       "      <td>0.0</td>\n",
       "      <td>0.0</td>\n",
       "      <td>0.143236</td>\n",
       "      <td>0.001508</td>\n",
       "      <td>3.100825</td>\n",
       "      <td>0.058824</td>\n",
       "      <td>0.063458</td>\n",
       "    </tr>\n",
       "    <tr>\n",
       "      <th>18524883</th>\n",
       "      <td>0.0</td>\n",
       "      <td>0.0</td>\n",
       "      <td>0.0</td>\n",
       "      <td>0.0</td>\n",
       "      <td>0.143236</td>\n",
       "      <td>0.001506</td>\n",
       "      <td>3.100961</td>\n",
       "      <td>0.055556</td>\n",
       "      <td>0.063458</td>\n",
       "    </tr>\n",
       "    <tr>\n",
       "      <th>18524884</th>\n",
       "      <td>0.0</td>\n",
       "      <td>0.0</td>\n",
       "      <td>0.0</td>\n",
       "      <td>0.0</td>\n",
       "      <td>0.143235</td>\n",
       "      <td>0.001504</td>\n",
       "      <td>3.101601</td>\n",
       "      <td>0.052632</td>\n",
       "      <td>0.063458</td>\n",
       "    </tr>\n",
       "  </tbody>\n",
       "</table>\n",
       "</div>"
      ],
      "text/plain": [
       "          item_cnt_month  item_trend  item_cnt_roll_mean  item_cnt_day_mean  \\\n",
       "18524880             0.0         0.0                 0.0                0.0   \n",
       "18524881             0.0         0.0                 0.0                0.0   \n",
       "18524882             0.0         0.0                 0.0                0.0   \n",
       "18524883             0.0         0.0                 0.0                0.0   \n",
       "18524884             0.0         0.0                 0.0                0.0   \n",
       "\n",
       "          month_mean_past  item_mean_past  category_mean_past  \\\n",
       "18524880         0.143237        0.001513            3.100623   \n",
       "18524881         0.143236        0.001511            3.100472   \n",
       "18524882         0.143236        0.001508            3.100825   \n",
       "18524883         0.143236        0.001506            3.100961   \n",
       "18524884         0.143235        0.001504            3.101601   \n",
       "\n",
       "          shop_item_mean_past  year_mean_past  \n",
       "18524880             0.000000        0.063458  \n",
       "18524881             0.000000        0.063458  \n",
       "18524882             0.058824        0.063458  \n",
       "18524883             0.055556        0.063458  \n",
       "18524884             0.052632        0.063458  "
      ]
     },
     "execution_count": 531,
     "metadata": {},
     "output_type": "execute_result"
    }
   ],
   "source": [
    "X_predict.head()"
   ]
  },
  {
   "cell_type": "markdown",
   "metadata": {},
   "source": [
    "### Long cell of functions from app/train_model.py for training and evaluation, you can scroll down"
   ]
  },
  {
   "cell_type": "code",
   "execution_count": 26,
   "metadata": {},
   "outputs": [],
   "source": [
    "# import libraries\n",
    "import sys\n",
    "import pandas as pd\n",
    "from sklearn.pipeline import Pipeline\n",
    "import pickle\n",
    "import numpy as np\n",
    "from sklearn.metrics import mean_squared_error\n",
    "from sklearn.metrics import mean_absolute_error\n",
    "from sklearn.model_selection import GridSearchCV\n",
    "from xgboost import XGBRegressor\n",
    "from xgboost import plot_importance\n",
    "\n",
    "from sklearn.preprocessing import StandardScaler\n",
    "from sklearn.linear_model import HuberRegressor\n",
    "from sklearn.model_selection import TimeSeriesSplit\n",
    "\n",
    "def build_model():\n",
    "    '''\n",
    "        build_model() - function that creates a model to later train, test and save for predicting\n",
    "        Input:\n",
    "            None \n",
    "        Output:\n",
    "            model - a sklearn GridSearchCV object, model to be trained on existing data and predict categories for the new data\n",
    "    '''\n",
    "    \n",
    "    linear_pipeline = Pipeline(steps=[\n",
    "                    ('Scaler', StandardScaler()),\n",
    "                    ('Regressor', HuberRegressor(max_iter=300, epsilon=1.3))\n",
    "                  ])\n",
    "\n",
    "    # To save time the gridsearch cv is commented out as I've already ran it before and inputted parameters above\n",
    "    '''\n",
    "    parameters = {\n",
    "                    'Regressor__tol': [0.0001, 0.0005]\n",
    "                    'Regressor__max_iter': [300, 400]\n",
    "                    'Regressor__epsilon': [1.3, 1.35]\n",
    "                 }\n",
    "\n",
    "    cv_linear = GridSearchCV(\n",
    "                    linear_pipeline, \n",
    "                    param_grid = parameters, \n",
    "                    n_jobs=-1, \n",
    "                    cv=TimeSeriesSplit(n_splits=3), \n",
    "                    scoring='neg_mean_absolute_error')\n",
    "\n",
    "    model = cv_linear\n",
    "    '''\n",
    "    model = linear_pipeline\n",
    "    return model\n",
    "\n",
    "def evaluate_model(model, base_estimator, X_test, y_test, extended_test_set):\n",
    "    '''\n",
    "        evaluate_model() - function that evaluates an sklearn model\n",
    "        Input:\n",
    "            model - a trained sklearn model capable of  'predict' methods\n",
    "            X_test - (pd.DataFrame) data for testing, features\n",
    "            y_test - (np.array) array with labels for testing, targets\n",
    "        Output:\n",
    "            MAE - (float) - mean absolute error across all shops and items montly data for period of time defined in X_test dataset\n",
    "    '''\n",
    "    \n",
    "    y_test = np.array(y_test)\n",
    "    # get the model prediction\n",
    "    y_pred = model.predict(X_test)\n",
    "    # make integers for meaningfull predictions\n",
    "    y_pred = y_pred.astype(int)\n",
    "    MAE = mean_absolute_error(y_test, y_pred)\n",
    "    \n",
    "    # get the base estimator prediction\n",
    "    y_pred_base = base_estimator.predict(X_test)\n",
    "    # make integers for meaningfull predictions\n",
    "    y_pred_base = y_pred_base.astype(int)\n",
    "    MAE_base = mean_absolute_error(y_test, y_pred_base)\n",
    "    \n",
    "    error_diff = (MAE_base - MAE)\n",
    "    \n",
    "    if MAE_base != 0:\n",
    "        error_better = error_diff/MAE_base\n",
    "    elif error_diff == 0:\n",
    "        error_better = 0\n",
    "    else:\n",
    "        error_better =  None    \n",
    "    \n",
    "    prices = np.array(extended_test_set['item_price_avg'])\n",
    "    total_sales = np.sum(prices*y_test)\n",
    "            \n",
    "    diff_from_fact = np.abs(y_pred - y_test)\n",
    "    diff_from_fact_base = np.abs(y_pred_base - y_test)\n",
    "    \n",
    "    cash_error_model = np.sum(diff_from_fact*prices)\n",
    "    cash_error_base = np.sum(diff_from_fact_base*prices)\n",
    "    \n",
    "    cash_diff = (cash_error_base - cash_error_model)\n",
    "    \n",
    "    if total_sales != 0:\n",
    "        cash_better = cash_diff/total_sales\n",
    "    elif cash_diff == 0:\n",
    "        cash_better = 0\n",
    "    else:\n",
    "        cash_better = None\n",
    "        \n",
    "    return round(MAE,2), round(MAE_base,2) , round(error_better,2), round(cash_better,2), int(total_sales)"
   ]
  },
  {
   "cell_type": "markdown",
   "metadata": {},
   "source": [
    "## 3. Creating a base estimator to compare with "
   ]
  },
  {
   "cell_type": "markdown",
   "metadata": {},
   "source": [
    "### We will try out 2 different possible base estimators.  The first base estimator will always predict the number of items sold in the next month to be the same as this month, the second estimator will predict next month sales as an average of the last 3 month sales"
   ]
  },
  {
   "cell_type": "markdown",
   "metadata": {},
   "source": [
    "### Let's evaluate the first estimator"
   ]
  },
  {
   "cell_type": "code",
   "execution_count": 20,
   "metadata": {},
   "outputs": [],
   "source": [
    "class base_estimator:\n",
    "    '''\n",
    "        base_estimator - class for returning basic prediction for items sold next month \n",
    "                        to compare with ML estimators\n",
    "        Parameters:\n",
    "            type_ - (str) type of base estimator, either 'last_month' (by default) which returns number of items sold this month,\n",
    "                    or 'last_three_months' which returns average of number of items sold last 3 months \n",
    "                    as the prediction of items sold next month\n",
    "    '''\n",
    "    def __init__(self, type_='last_month'):\n",
    "        self.type_ = type_\n",
    "    \n",
    "    def predict(self, X_test):\n",
    "        '''\n",
    "            predict() - method that returns predictions for the nest month items sold\n",
    "            Input:\n",
    "                X_test - (pd.DataFrame) dataframe with contains number of items sold in the past and this month\n",
    "            Output:\n",
    "                y_pred - (np.array) array of predictions for the items sold next month\n",
    "        '''\n",
    "        if self.type_ == 'last_month':\n",
    "            y_pred = np.array(X_test['item_cnt_month'])\n",
    "        elif self.type_ == 'last_three_months':\n",
    "            y_pred = np.array(X_test['item_cnt_roll_mean'])\n",
    "        return y_pred"
   ]
  },
  {
   "cell_type": "code",
   "execution_count": 21,
   "metadata": {},
   "outputs": [
    {
     "name": "stdout",
     "output_type": "stream",
     "text": [
      "For the first base estimator MAE on test data is 0.08\n",
      "For the second base estimator MAE on test data is 0.07\n"
     ]
    }
   ],
   "source": [
    "estimator_last_month = base_estimator('last_month')\n",
    "estimator_last_3_months = base_estimator('last_three_months')\n",
    "\n",
    "\n",
    "y_test = np.array(Y_test)\n",
    "\n",
    "# get the estimator prediction\n",
    "y_pred = estimator_last_month.predict(X_test)\n",
    "# make integers for meaningfull predictions\n",
    "y_pred = y_pred.astype(int)\n",
    "mae1 = mean_absolute_error(y_test, y_pred)\n",
    "print('For the first base estimator MAE on test data is {}'.format(round(mae1,2)) )\n",
    "\n",
    "# get the estimator prediction\n",
    "y_pred = estimator_last_3_months.predict(X_test)\n",
    "# make integers for meaningfull predictions\n",
    "y_pred = y_pred.astype(int)\n",
    "mae2 = mean_absolute_error(y_test, y_pred)\n",
    "print('For the second base estimator MAE on test data is {}'.format(round(mae2,2)) )"
   ]
  },
  {
   "cell_type": "markdown",
   "metadata": {},
   "source": [
    "### We will be using  'estimator_last_3_months' as our base estimator to compare with the models"
   ]
  },
  {
   "cell_type": "markdown",
   "metadata": {},
   "source": [
    "## 4. Creating and testing Linear model"
   ]
  },
  {
   "cell_type": "code",
   "execution_count": 22,
   "metadata": {},
   "outputs": [],
   "source": [
    "from sklearn.preprocessing import StandardScaler\n",
    "from sklearn.pipeline import Pipeline\n",
    "from sklearn.linear_model import HuberRegressor"
   ]
  },
  {
   "cell_type": "code",
   "execution_count": 536,
   "metadata": {},
   "outputs": [
    {
     "name": "stdout",
     "output_type": "stream",
     "text": [
      "Training model...\n"
     ]
    },
    {
     "data": {
      "text/plain": [
       "Pipeline(steps=[('Scaler', StandardScaler()), ('Regressor', HuberRegressor())])"
      ]
     },
     "execution_count": 536,
     "metadata": {},
     "output_type": "execute_result"
    }
   ],
   "source": [
    "linear_pipeline = Pipeline(steps=[\n",
    "                    ('Scaler', StandardScaler()),\n",
    "                    ('Regressor', HuberRegressor())\n",
    "                  ])\n",
    "\n",
    "print('Training model...')\n",
    "\n",
    "linear_pipeline.fit(X_train, Y_train)"
   ]
  },
  {
   "cell_type": "code",
   "execution_count": 537,
   "metadata": {},
   "outputs": [
    {
     "name": "stdout",
     "output_type": "stream",
     "text": [
      "Evaluating model...\n",
      "MAE on test data is 0.06 \n"
     ]
    }
   ],
   "source": [
    "print('Evaluating model...')\n",
    "mae, mae_base, error_better, cash_better, total_sales = evaluate_model(linear_pipeline, estimator_last_3_months, X_test, Y_test, extended_test_set)\n",
    "print('MAE on test data is {} '.format(mae) )"
   ]
  },
  {
   "cell_type": "markdown",
   "metadata": {},
   "source": [
    "## 5. Creating and testing XGBoost model"
   ]
  },
  {
   "cell_type": "markdown",
   "metadata": {},
   "source": [
    "### We can either train a new model or load a pre-trained one to save time depending on 'load_model' parameter "
   ]
  },
  {
   "cell_type": "code",
   "execution_count": 538,
   "metadata": {},
   "outputs": [],
   "source": [
    "# if 'load_model' is False then we re-train a model, else if True, we load some model\n",
    "load_model = False"
   ]
  },
  {
   "cell_type": "code",
   "execution_count": 539,
   "metadata": {},
   "outputs": [
    {
     "name": "stdout",
     "output_type": "stream",
     "text": [
      "Building model...\n",
      "Training model...\n",
      "[05:31:53] WARNING: src/objective/regression_obj.cu:152: reg:linear is now deprecated in favor of reg:squarederror.\n",
      "[05:31:53] WARNING: src/learner.cc:686: Tree method is automatically selected to be 'approx' for faster speed. To use old behavior (exact greedy algorithm on single machine), set tree_method to 'exact'.\n"
     ]
    }
   ],
   "source": [
    "import joblib\n",
    "from xgboost import XGBRegressor\n",
    "from xgboost import plot_importance\n",
    "\n",
    "if load_model:\n",
    "    print('Loading model...')\n",
    "    model = joblib.load(\"models/forecast_v2.pkl\")\n",
    "else:\n",
    "    print('Building model...')\n",
    "    model = XGBRegressor()        \n",
    "    print('Training model...')\n",
    "    model.fit(X_train, Y_train)"
   ]
  },
  {
   "cell_type": "code",
   "execution_count": 540,
   "metadata": {},
   "outputs": [
    {
     "name": "stdout",
     "output_type": "stream",
     "text": [
      "Evaluating model...\n",
      "MAE on test data is 0.07\n"
     ]
    }
   ],
   "source": [
    "print('Evaluating model...')\n",
    "mae, mae_base, error_better, cash_better, total_sales = evaluate_model(model, estimator_last_3_months, X_test, Y_test, extended_test_set)\n",
    "print('MAE on test data is {}'.format(mae) )"
   ]
  },
  {
   "cell_type": "code",
   "execution_count": 541,
   "metadata": {},
   "outputs": [],
   "source": [
    "#print('XGBRegressor with this parameters turned out to be the best:', model.get_params())"
   ]
  },
  {
   "cell_type": "markdown",
   "metadata": {},
   "source": [
    "### Saving the model "
   ]
  },
  {
   "cell_type": "code",
   "execution_count": 542,
   "metadata": {},
   "outputs": [
    {
     "name": "stdout",
     "output_type": "stream",
     "text": [
      "Saving model...\n"
     ]
    }
   ],
   "source": [
    "import pickle\n",
    "print('Saving model...')\n",
    "file_pkl = open('models/forecast_v2.pkl', 'wb')\n",
    "pickle.dump(model, file_pkl)\n",
    "file_pkl.close()"
   ]
  },
  {
   "cell_type": "markdown",
   "metadata": {},
   "source": [
    "###  See what features are the most important for this model"
   ]
  },
  {
   "cell_type": "markdown",
   "metadata": {},
   "source": [
    "###  Using data on feature importance I've selected features to keep"
   ]
  },
  {
   "cell_type": "code",
   "execution_count": 543,
   "metadata": {},
   "outputs": [
    {
     "data": {
      "image/png": "[encoded data removed]",
      "text/plain": [
       "<Figure size 432x288 with 1 Axes>"
      ]
     },
     "metadata": {
      "needs_background": "light"
     },
     "output_type": "display_data"
    }
   ],
   "source": [
    "import matplotlib.pyplot as plt\n",
    "\n",
    "plot_importance(model)\n",
    "plt.show()"
   ]
  },
  {
   "cell_type": "markdown",
   "metadata": {},
   "source": [
    "## 6. Tuning parameters and getting feature importance for the best model "
   ]
  },
  {
   "cell_type": "markdown",
   "metadata": {},
   "source": [
    "### The linear regression model (HuberRegressor) turned out to be a bit better on the test data, besides, it is much faster. From now on we will be using it."
   ]
  },
  {
   "cell_type": "code",
   "execution_count": 561,
   "metadata": {},
   "outputs": [],
   "source": [
    "from sklearn.preprocessing import StandardScaler\n",
    "from sklearn.pipeline import Pipeline\n",
    "from sklearn.linear_model import HuberRegressor\n",
    "from sklearn.model_selection import GridSearchCV\n",
    "from sklearn.model_selection import TimeSeriesSplit"
   ]
  },
  {
   "cell_type": "markdown",
   "metadata": {},
   "source": [
    "###  First, let's check for collinearity of coefficiencts to avoid having similar features"
   ]
  },
  {
   "cell_type": "code",
   "execution_count": 12,
   "metadata": {},
   "outputs": [],
   "source": [
    "corr_df = X_train[X_train['item_cnt_month'] != 0].corr()"
   ]
  },
  {
   "cell_type": "code",
   "execution_count": 13,
   "metadata": {},
   "outputs": [
    {
     "data": {
      "text/plain": [
       "<AxesSubplot:>"
      ]
     },
     "execution_count": 13,
     "metadata": {},
     "output_type": "execute_result"
    },
    {
     "data": {
      "image/png": "[encoded data removed]",
      "text/plain": [
       "<Figure size 432x288 with 2 Axes>"
      ]
     },
     "metadata": {
      "needs_background": "light"
     },
     "output_type": "display_data"
    }
   ],
   "source": [
    "import seaborn as sns\n",
    "import matplotlib.pyplot as plt\n",
    "\n",
    "sns.heatmap(corr_df)\n"
   ]
  },
  {
   "cell_type": "code",
   "execution_count": 14,
   "metadata": {},
   "outputs": [
    {
     "data": {
      "text/html": [
       "<div>\n",
       "<style scoped>\n",
       "    .dataframe tbody tr th:only-of-type {\n",
       "        vertical-align: middle;\n",
       "    }\n",
       "\n",
       "    .dataframe tbody tr th {\n",
       "        vertical-align: top;\n",
       "    }\n",
       "\n",
       "    .dataframe thead th {\n",
       "        text-align: right;\n",
       "    }\n",
       "</style>\n",
       "<table border=\"1\" class=\"dataframe\">\n",
       "  <thead>\n",
       "    <tr style=\"text-align: right;\">\n",
       "      <th></th>\n",
       "      <th>item_cnt_month</th>\n",
       "      <th>item_trend</th>\n",
       "      <th>item_cnt_roll_mean</th>\n",
       "      <th>item_cnt_day_mean</th>\n",
       "      <th>month_mean_past</th>\n",
       "      <th>item_mean_past</th>\n",
       "      <th>category_mean_past</th>\n",
       "      <th>shop_item_mean_past</th>\n",
       "      <th>year_mean_past</th>\n",
       "    </tr>\n",
       "  </thead>\n",
       "  <tbody>\n",
       "    <tr>\n",
       "      <th>item_cnt_month</th>\n",
       "      <td>1.000000</td>\n",
       "      <td>0.575513</td>\n",
       "      <td>0.886603</td>\n",
       "      <td>0.501375</td>\n",
       "      <td>-0.005218</td>\n",
       "      <td>-0.002406</td>\n",
       "      <td>-0.016331</td>\n",
       "      <td>0.000739</td>\n",
       "      <td>-0.001678</td>\n",
       "    </tr>\n",
       "    <tr>\n",
       "      <th>item_trend</th>\n",
       "      <td>0.575513</td>\n",
       "      <td>1.000000</td>\n",
       "      <td>0.153611</td>\n",
       "      <td>0.485209</td>\n",
       "      <td>-0.000748</td>\n",
       "      <td>0.002068</td>\n",
       "      <td>0.007376</td>\n",
       "      <td>0.000296</td>\n",
       "      <td>0.020466</td>\n",
       "    </tr>\n",
       "    <tr>\n",
       "      <th>item_cnt_roll_mean</th>\n",
       "      <td>0.886603</td>\n",
       "      <td>0.153611</td>\n",
       "      <td>1.000000</td>\n",
       "      <td>0.341076</td>\n",
       "      <td>-0.004884</td>\n",
       "      <td>-0.003095</td>\n",
       "      <td>-0.017116</td>\n",
       "      <td>0.000329</td>\n",
       "      <td>-0.010107</td>\n",
       "    </tr>\n",
       "    <tr>\n",
       "      <th>item_cnt_day_mean</th>\n",
       "      <td>0.501375</td>\n",
       "      <td>0.485209</td>\n",
       "      <td>0.341076</td>\n",
       "      <td>1.000000</td>\n",
       "      <td>-0.011155</td>\n",
       "      <td>0.000458</td>\n",
       "      <td>-0.011213</td>\n",
       "      <td>-0.000541</td>\n",
       "      <td>-0.002788</td>\n",
       "    </tr>\n",
       "    <tr>\n",
       "      <th>month_mean_past</th>\n",
       "      <td>-0.005218</td>\n",
       "      <td>-0.000748</td>\n",
       "      <td>-0.004884</td>\n",
       "      <td>-0.011155</td>\n",
       "      <td>1.000000</td>\n",
       "      <td>0.063554</td>\n",
       "      <td>0.517926</td>\n",
       "      <td>0.024327</td>\n",
       "      <td>0.532080</td>\n",
       "    </tr>\n",
       "    <tr>\n",
       "      <th>item_mean_past</th>\n",
       "      <td>-0.002406</td>\n",
       "      <td>0.002068</td>\n",
       "      <td>-0.003095</td>\n",
       "      <td>0.000458</td>\n",
       "      <td>0.063554</td>\n",
       "      <td>1.000000</td>\n",
       "      <td>0.119542</td>\n",
       "      <td>-0.001903</td>\n",
       "      <td>0.093081</td>\n",
       "    </tr>\n",
       "    <tr>\n",
       "      <th>category_mean_past</th>\n",
       "      <td>-0.016331</td>\n",
       "      <td>0.007376</td>\n",
       "      <td>-0.017116</td>\n",
       "      <td>-0.011213</td>\n",
       "      <td>0.517926</td>\n",
       "      <td>0.119542</td>\n",
       "      <td>1.000000</td>\n",
       "      <td>-0.009419</td>\n",
       "      <td>0.680496</td>\n",
       "    </tr>\n",
       "    <tr>\n",
       "      <th>shop_item_mean_past</th>\n",
       "      <td>0.000739</td>\n",
       "      <td>0.000296</td>\n",
       "      <td>0.000329</td>\n",
       "      <td>-0.000541</td>\n",
       "      <td>0.024327</td>\n",
       "      <td>-0.001903</td>\n",
       "      <td>-0.009419</td>\n",
       "      <td>1.000000</td>\n",
       "      <td>-0.002046</td>\n",
       "    </tr>\n",
       "    <tr>\n",
       "      <th>year_mean_past</th>\n",
       "      <td>-0.001678</td>\n",
       "      <td>0.020466</td>\n",
       "      <td>-0.010107</td>\n",
       "      <td>-0.002788</td>\n",
       "      <td>0.532080</td>\n",
       "      <td>0.093081</td>\n",
       "      <td>0.680496</td>\n",
       "      <td>-0.002046</td>\n",
       "      <td>1.000000</td>\n",
       "    </tr>\n",
       "  </tbody>\n",
       "</table>\n",
       "</div>"
      ],
      "text/plain": [
       "                     item_cnt_month  item_trend  item_cnt_roll_mean  \\\n",
       "item_cnt_month             1.000000    0.575513            0.886603   \n",
       "item_trend                 0.575513    1.000000            0.153611   \n",
       "item_cnt_roll_mean         0.886603    0.153611            1.000000   \n",
       "item_cnt_day_mean          0.501375    0.485209            0.341076   \n",
       "month_mean_past           -0.005218   -0.000748           -0.004884   \n",
       "item_mean_past            -0.002406    0.002068           -0.003095   \n",
       "category_mean_past        -0.016331    0.007376           -0.017116   \n",
       "shop_item_mean_past        0.000739    0.000296            0.000329   \n",
       "year_mean_past            -0.001678    0.020466           -0.010107   \n",
       "\n",
       "                     item_cnt_day_mean  month_mean_past  item_mean_past  \\\n",
       "item_cnt_month                0.501375        -0.005218       -0.002406   \n",
       "item_trend                    0.485209        -0.000748        0.002068   \n",
       "item_cnt_roll_mean            0.341076        -0.004884       -0.003095   \n",
       "item_cnt_day_mean             1.000000        -0.011155        0.000458   \n",
       "month_mean_past              -0.011155         1.000000        0.063554   \n",
       "item_mean_past                0.000458         0.063554        1.000000   \n",
       "category_mean_past           -0.011213         0.517926        0.119542   \n",
       "shop_item_mean_past          -0.000541         0.024327       -0.001903   \n",
       "year_mean_past               -0.002788         0.532080        0.093081   \n",
       "\n",
       "                     category_mean_past  shop_item_mean_past  year_mean_past  \n",
       "item_cnt_month                -0.016331             0.000739       -0.001678  \n",
       "item_trend                     0.007376             0.000296        0.020466  \n",
       "item_cnt_roll_mean            -0.017116             0.000329       -0.010107  \n",
       "item_cnt_day_mean             -0.011213            -0.000541       -0.002788  \n",
       "month_mean_past                0.517926             0.024327        0.532080  \n",
       "item_mean_past                 0.119542            -0.001903        0.093081  \n",
       "category_mean_past             1.000000            -0.009419        0.680496  \n",
       "shop_item_mean_past           -0.009419             1.000000       -0.002046  \n",
       "year_mean_past                 0.680496            -0.002046        1.000000  "
      ]
     },
     "execution_count": 14,
     "metadata": {},
     "output_type": "execute_result"
    }
   ],
   "source": [
    "corr_df"
   ]
  },
  {
   "cell_type": "markdown",
   "metadata": {},
   "source": [
    "#### The 'item_cnt_month'  and 'item_cnt_roll_mean' have high digree of correlation (0.86), however, removing the latter feature results in the performance drop. Although the correlation is high, it is not full (i.e. less than 1), and the 'item_cnt_roll_mean' gives some addtional information for the system"
   ]
  },
  {
   "cell_type": "code",
   "execution_count": 23,
   "metadata": {},
   "outputs": [
    {
     "name": "stdout",
     "output_type": "stream",
     "text": [
      "Training model...\n"
     ]
    },
    {
     "data": {
      "text/plain": [
       "Pipeline(steps=[('Scaler', StandardScaler()),\n",
       "                ('Regressor', HuberRegressor(epsilon=1.3, max_iter=300))])"
      ]
     },
     "execution_count": 23,
     "metadata": {},
     "output_type": "execute_result"
    }
   ],
   "source": [
    "linear_pipeline = Pipeline(steps=[\n",
    "                    ('Scaler', StandardScaler()),\n",
    "                    ('Regressor', HuberRegressor(max_iter=300, epsilon=1.3))\n",
    "                  ])\n",
    "\n",
    "print('Training model...')\n",
    "\n",
    "# To save time the gridsearch cv is commented out as I've already ran it before and inputted parameters above\n",
    "'''\n",
    "parameters = {\n",
    "                'Regressor__max_iter': [300, 250],\n",
    "                'Regressor__epsilon': [1.3, 1.35]\n",
    "             }\n",
    "            \n",
    "linear_pipeline = GridSearchCV(\n",
    "                linear_pipeline, \n",
    "                param_grid = parameters, \n",
    "                n_jobs=-1, \n",
    "                cv=TimeSeriesSplit(n_splits=3), \n",
    "                scoring='neg_mean_absolute_error')\n",
    "'''\n",
    "linear_pipeline.fit(X_train, Y_train)"
   ]
  },
  {
   "cell_type": "code",
   "execution_count": 24,
   "metadata": {},
   "outputs": [],
   "source": [
    "#linear_pipeline.best_estimator_.get_params()"
   ]
  },
  {
   "cell_type": "code",
   "execution_count": 27,
   "metadata": {},
   "outputs": [
    {
     "name": "stdout",
     "output_type": "stream",
     "text": [
      "Evaluating model...\n",
      "MAE on test data is 0.06\n"
     ]
    }
   ],
   "source": [
    "print('Evaluating model...')\n",
    "mae, mae_base, error_better, cash_better, total_sales = evaluate_model(linear_pipeline, estimator_last_3_months, X_test, Y_test, extended_test_set)\n",
    "print('MAE on test data is {}'.format(mae) )"
   ]
  },
  {
   "cell_type": "markdown",
   "metadata": {},
   "source": [
    "### MAE of this model is lower than MAE of the base estimator, and so there is a point of using it "
   ]
  },
  {
   "cell_type": "code",
   "execution_count": 28,
   "metadata": {},
   "outputs": [
    {
     "name": "stdout",
     "output_type": "stream",
     "text": [
      "Saving model...\n"
     ]
    }
   ],
   "source": [
    "import pickle\n",
    "print('Saving model...')\n",
    "file_pkl = open('models/forecast_linear_v5.pkl', 'wb')\n",
    "pickle.dump(linear_pipeline, file_pkl)\n",
    "file_pkl.close()"
   ]
  },
  {
   "cell_type": "markdown",
   "metadata": {},
   "source": [
    "### Output feature importances "
   ]
  },
  {
   "cell_type": "code",
   "execution_count": 29,
   "metadata": {},
   "outputs": [],
   "source": [
    "coef = np.abs(linear_pipeline['Regressor'].coef_)"
   ]
  },
  {
   "cell_type": "code",
   "execution_count": 30,
   "metadata": {},
   "outputs": [
    {
     "data": {
      "text/plain": [
       "Index(['item_cnt_month', 'item_trend', 'item_cnt_day_mean', 'month_mean_past',\n",
       "       'item_mean_past', 'category_mean_past', 'shop_item_mean_past',\n",
       "       'year_mean_past'],\n",
       "      dtype='object')"
      ]
     },
     "execution_count": 30,
     "metadata": {},
     "output_type": "execute_result"
    }
   ],
   "source": [
    "X_train.columns"
   ]
  },
  {
   "cell_type": "code",
   "execution_count": 31,
   "metadata": {},
   "outputs": [],
   "source": [
    "coefficients = pd.DataFrame(data={'Feature': X_train.columns, 'Importance': coef})\n",
    "coefficients = coefficients.sort_values(by='Importance', ascending=False)\n",
    "# select only those features that are at least 10% of the most important feature\n",
    "coefficients = coefficients[coefficients['Importance'] >= 0.1*coefficients['Importance'].max()]"
   ]
  },
  {
   "cell_type": "code",
   "execution_count": 32,
   "metadata": {},
   "outputs": [
    {
     "data": {
      "image/png": "[encoded data removed]",
      "text/plain": [
       "<Figure size 576x360 with 1 Axes>"
      ]
     },
     "metadata": {
      "needs_background": "light"
     },
     "output_type": "display_data"
    }
   ],
   "source": [
    "fig, ax = plt.subplots()\n",
    "fig.set_size_inches(8, 5)\n",
    "ax = sns.barplot(x='Importance', y='Feature', data=coefficients)\n",
    "plt.show()"
   ]
  },
  {
   "cell_type": "markdown",
   "metadata": {},
   "source": [
    "## 7. Testing on unseen shops "
   ]
  },
  {
   "cell_type": "code",
   "execution_count": 33,
   "metadata": {},
   "outputs": [],
   "source": [
    "def test_on_shops(model, list_of_shop_ids=range(30,40), data=None):\n",
    "    if data is not None:\n",
    "        data_new = data\n",
    "    else:\n",
    "        data_new = preprocess_data('data/sales_train.csv', 'data/items.csv', use_shop_ids=list_of_shop_ids)\n",
    "    \n",
    "    print(data_new.describe())\n",
    "    \n",
    "    X_train_new, Y_train_new, X_test_new, Y_test_new, X_predict_new, extended_test_set, predict_extended_new = return_processed_data(data_new)\n",
    "    \n",
    "    print('Evaluating model...')\n",
    "    \n",
    "    # Compare with base estimator that returns last 3-month average of items sold\n",
    "    estimator_last_3_months = base_estimator('last_three_months')\n",
    "    \n",
    "    mae, mae_base, error_better, cash_better, total_sales = evaluate_model(model, estimator_last_3_months, X_test_new, Y_test_new, extended_test_set)\n",
    "    \n",
    "    min_month = extended_test_set['month'].iloc[0]\n",
    "    min_year = extended_test_set['year'].iloc[0]\n",
    "    max_month = extended_test_set['month'].iloc[-1]\n",
    "    max_year = extended_test_set['year'].iloc[-1]\n",
    "    \n",
    "    if error_better >= 0:\n",
    "        result_word = 'YES'\n",
    "    else:\n",
    "        result_word = 'NO'\n",
    "    \n",
    "    print('Can you trust the given forecast? Probably {}.'.format(result_word))\n",
    "    print('To answer that question we checked the forecast-genereating model on test period: from {}/{} to the end of {}/{}.'.format(min_month, min_year, max_month, max_year))\n",
    "    print('Then, the model was compared to a simple estimator which forecasts items sold next month as the average of items sold last 3 months.')\n",
    "    print('Mean average error for the model on test data is {} items.'.format(mae) )\n",
    "    print('Mean average error for the simple estimator on test data is {} items.'.format(mae_base) )\n",
    "    \n",
    "    if error_better > 0:\n",
    "        result_word = 'better'\n",
    "    elif error_better == 0:\n",
    "        result_word = ' different - meaning produced the same error'\n",
    "    else:\n",
    "        result_word = 'worse'\n",
    "    \n",
    "    print('In terms of the number of items sold, the model was {}% {} compared to the simple estimator.'.format(round(100*error_better,2), result_word))\n",
    "    saving = int(total_sales*cash_better)\n",
    "    if cash_better > 0:\n",
    "        print('In terms of the money, the model could have helped to better allocate {} or {}% of total sales of {} during the test period.*'.format(saving, round(100*cash_better,2), total_sales))\n",
    "        print('   *These figures are calculated by comparing model forecast with the simple estimator and could have been achivied by stocking items that customers would purchase and not stocking items that were not ultimately purchased.')"
   ]
  },
  {
   "cell_type": "markdown",
   "metadata": {},
   "source": [
    "### Load the best model "
   ]
  },
  {
   "cell_type": "code",
   "execution_count": 34,
   "metadata": {},
   "outputs": [
    {
     "name": "stdout",
     "output_type": "stream",
     "text": [
      "Loading model\n"
     ]
    }
   ],
   "source": [
    "import joblib\n",
    "print('Loading model')\n",
    "model_linear = joblib.load(\"models/forecast_linear_v5.pkl\")"
   ]
  },
  {
   "cell_type": "markdown",
   "metadata": {},
   "source": [
    "### Testing on 10 shops "
   ]
  },
  {
   "cell_type": "code",
   "execution_count": 35,
   "metadata": {},
   "outputs": [
    {
     "name": "stdout",
     "output_type": "stream",
     "text": [
      "             shop_id        item_id     item_price   item_cnt_day  \\\n",
      "count  463064.000000  463064.000000  463064.000000  463064.000000   \n",
      "mean       32.915817   10441.734393     844.710115       1.249123   \n",
      "std         2.907901    6282.046974    1644.080120       1.802047   \n",
      "min        30.000000      26.000000      -1.000000      -2.000000   \n",
      "25%        31.000000    4808.000000     249.000000       1.000000   \n",
      "50%        31.000000   10020.000000     399.000000       1.000000   \n",
      "75%        35.000000   15843.000000     899.000000       1.000000   \n",
      "max        39.000000   22167.000000   41990.000000     288.000000   \n",
      "\n",
      "       item_category_id  \n",
      "count     463064.000000  \n",
      "mean          40.554848  \n",
      "std           16.772232  \n",
      "min            0.000000  \n",
      "25%           30.000000  \n",
      "50%           40.000000  \n",
      "75%           55.000000  \n",
      "max           83.000000  \n",
      "Evaluating model...\n",
      "Can you trust the given forecast? Probably NO.\n",
      "To answer that question we checked the forecast-genereating model on test period: from 12/2014 to the end of 9/2015.\n",
      "Then, the model was compared to a simple estimator which forecasts items sold next month as the average of items sold last 3 months.\n",
      "Mean average error for the model on test data is 0.08 items.\n",
      "Mean average error for the simple estimator on test data is 0.08 items.\n",
      "In terms of the number of items sold, the model was -1.0% worse compared to the simple estimator.\n",
      "In terms of the money, the model could have helped to better allocate 10102890 or 14.0% of total sales of 72163501 during the test period.*\n",
      "   *These figures are calculated by comparing model forecast with the simple estimator and could have been achivied by stocking items that customers would purchase and not stocking items that were not ultimately purchased.\n"
     ]
    }
   ],
   "source": [
    "test_on_shops(model_linear, range(30,40))"
   ]
  },
  {
   "cell_type": "markdown",
   "metadata": {},
   "source": [
    "### Testing on the shop from web app template "
   ]
  },
  {
   "cell_type": "code",
   "execution_count": 36,
   "metadata": {},
   "outputs": [
    {
     "name": "stdout",
     "output_type": "stream",
     "text": [
      "            item_id    item_price  item_cnt_day  item_category_id\n",
      "count   9289.000000   9289.000000   9289.000000       9289.000000\n",
      "mean    9701.012057   1211.644155      1.346001         38.419851\n",
      "std     6353.900879   2205.336580      2.690541         18.415012\n",
      "min       30.000000      0.500000     -1.000000          2.000000\n",
      "25%     4231.000000    299.000000      1.000000         23.000000\n",
      "50%     7808.000000    600.000000      1.000000         37.000000\n",
      "75%    15438.000000   1399.000000      1.000000         55.000000\n",
      "max    22167.000000  26499.000000    167.000000         83.000000\n",
      "Evaluating model...\n",
      "Can you trust the given forecast? Probably YES.\n",
      "To answer that question we checked the forecast-genereating model on test period: from 9/2014 to the end of 10/2014.\n",
      "Then, the model was compared to a simple estimator which forecasts items sold next month as the average of items sold last 3 months.\n",
      "Mean average error for the model on test data is 0.85 items.\n",
      "Mean average error for the simple estimator on test data is 0.86 items.\n",
      "In terms of the number of items sold, the model was 2.0% better compared to the simple estimator.\n",
      "In terms of the money, the model could have helped to better allocate 249039 or 12.0% of total sales of 2075327 during the test period.*\n",
      "   *These figures are calculated by comparing model forecast with the simple estimator and could have been achivied by stocking items that customers would purchase and not stocking items that were not ultimately purchased.\n"
     ]
    }
   ],
   "source": [
    "data_42 = pd.read_excel('app/downloads/excel_template.xls')\n",
    "test_on_shops(model_linear, data=data_42)"
   ]
  },
  {
   "cell_type": "code",
   "execution_count": null,
   "metadata": {},
   "outputs": [],
   "source": []
  },
  {
   "cell_type": "markdown",
   "metadata": {},
   "source": [
    "## 8. Conclusions "
   ]
  },
  {
   "cell_type": "markdown",
   "metadata": {},
   "source": [
    "### Currently the mean absolute error (MAE) on number of items sold in a month is a bit better (around 5%) then that of a base estimator. This results are OK as they can result in real better money allocation (almost 22% of the total sales volume on test data) if the user applied the forecasts on test period and bought the right amount of items. Howerer, the model tuning has not resulted in any improvement, posiible because of cv=3 to save time. I would need to try more serious parameter tuning and also other models and combination of models to improve the forecast on usneen shops. "
   ]
  },
  {
   "cell_type": "code",
   "execution_count": null,
   "metadata": {},
   "outputs": [],
   "source": []
  }
 ],
 "metadata": {
  "kernelspec": {
   "display_name": "Python 3",
   "language": "python",
   "name": "python3"
  },
  "language_info": {
   "codemirror_mode": {
    "name": "ipython",
    "version": 3
   },
   "file_extension": ".py",
   "mimetype": "text/x-python",
   "name": "python",
   "nbconvert_exporter": "python",
   "pygments_lexer": "ipython3",
   "version": "3.7.9"
  }
 },
 "nbformat": 4,
 "nbformat_minor": 4
}
